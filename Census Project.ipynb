{
 "cells": [
  {
   "cell_type": "markdown",
   "id": "89957893",
   "metadata": {},
   "source": [
    "## OBARAKPOR TEGA\n",
    "## 202120109\n",
    "## CODE FOR DATA SCIENCE CENSUS PROJECT"
   ]
  },
  {
   "cell_type": "code",
   "execution_count": 1,
   "id": "13c7600e",
   "metadata": {
    "scrolled": true
   },
   "outputs": [],
   "source": [
    "# importing necessary libraries\n",
    "import pandas as pd\n",
    "import math\n",
    "import numpy as np\n",
    "import seaborn as sns\n",
    "import matplotlib.pyplot as plt\n",
    "import matplotlib.ticker as mtick\n",
    "import warnings\n",
    "warnings.filterwarnings('ignore')"
   ]
  },
  {
   "cell_type": "code",
   "execution_count": 2,
   "id": "7a1717e0",
   "metadata": {},
   "outputs": [
    {
     "data": {
      "text/html": [
       "<div>\n",
       "<style scoped>\n",
       "    .dataframe tbody tr th:only-of-type {\n",
       "        vertical-align: middle;\n",
       "    }\n",
       "\n",
       "    .dataframe tbody tr th {\n",
       "        vertical-align: top;\n",
       "    }\n",
       "\n",
       "    .dataframe thead th {\n",
       "        text-align: right;\n",
       "    }\n",
       "</style>\n",
       "<table border=\"1\" class=\"dataframe\">\n",
       "  <thead>\n",
       "    <tr style=\"text-align: right;\">\n",
       "      <th></th>\n",
       "      <th>House Number</th>\n",
       "      <th>Street</th>\n",
       "      <th>First Name</th>\n",
       "      <th>Surname</th>\n",
       "      <th>Age</th>\n",
       "      <th>Relationship to Head of House</th>\n",
       "      <th>Marital Status</th>\n",
       "      <th>Gender</th>\n",
       "      <th>Occupation</th>\n",
       "      <th>Infirmity</th>\n",
       "      <th>Religion</th>\n",
       "    </tr>\n",
       "  </thead>\n",
       "  <tbody>\n",
       "    <tr>\n",
       "      <th>0</th>\n",
       "      <td>1</td>\n",
       "      <td>Kaur Drive</td>\n",
       "      <td>Douglas</td>\n",
       "      <td>Adams</td>\n",
       "      <td>77.0</td>\n",
       "      <td>Head</td>\n",
       "      <td>Widowed</td>\n",
       "      <td>Male</td>\n",
       "      <td>Retired Museum education officer</td>\n",
       "      <td>None</td>\n",
       "      <td>Christian</td>\n",
       "    </tr>\n",
       "    <tr>\n",
       "      <th>1</th>\n",
       "      <td>2</td>\n",
       "      <td>Kaur Drive</td>\n",
       "      <td>Hollie</td>\n",
       "      <td>West</td>\n",
       "      <td>79.0</td>\n",
       "      <td>Head</td>\n",
       "      <td>Single</td>\n",
       "      <td>Female</td>\n",
       "      <td>Retired Dealer</td>\n",
       "      <td>None</td>\n",
       "      <td>Christian</td>\n",
       "    </tr>\n",
       "    <tr>\n",
       "      <th>2</th>\n",
       "      <td>3</td>\n",
       "      <td>Kaur Drive</td>\n",
       "      <td>Joseph</td>\n",
       "      <td>Hall</td>\n",
       "      <td>55.0</td>\n",
       "      <td>Head</td>\n",
       "      <td>Single</td>\n",
       "      <td>Male</td>\n",
       "      <td>Fast food restaurant manager</td>\n",
       "      <td>None</td>\n",
       "      <td>Christian</td>\n",
       "    </tr>\n",
       "    <tr>\n",
       "      <th>3</th>\n",
       "      <td>4</td>\n",
       "      <td>Kaur Drive</td>\n",
       "      <td>Gregory</td>\n",
       "      <td>Cox</td>\n",
       "      <td>35.0</td>\n",
       "      <td>Head</td>\n",
       "      <td>Single</td>\n",
       "      <td>Male</td>\n",
       "      <td>Housing manager/officer</td>\n",
       "      <td>None</td>\n",
       "      <td>None</td>\n",
       "    </tr>\n",
       "    <tr>\n",
       "      <th>4</th>\n",
       "      <td>5</td>\n",
       "      <td>Kaur Drive</td>\n",
       "      <td>Lydia</td>\n",
       "      <td>Jones</td>\n",
       "      <td>42.0</td>\n",
       "      <td>Head</td>\n",
       "      <td>Single</td>\n",
       "      <td>Female</td>\n",
       "      <td>Unemployed</td>\n",
       "      <td>None</td>\n",
       "      <td>Catholic</td>\n",
       "    </tr>\n",
       "    <tr>\n",
       "      <th>...</th>\n",
       "      <td>...</td>\n",
       "      <td>...</td>\n",
       "      <td>...</td>\n",
       "      <td>...</td>\n",
       "      <td>...</td>\n",
       "      <td>...</td>\n",
       "      <td>...</td>\n",
       "      <td>...</td>\n",
       "      <td>...</td>\n",
       "      <td>...</td>\n",
       "      <td>...</td>\n",
       "    </tr>\n",
       "    <tr>\n",
       "      <th>10113</th>\n",
       "      <td>1</td>\n",
       "      <td>St.John Haven</td>\n",
       "      <td>Patrick</td>\n",
       "      <td>Morgan</td>\n",
       "      <td>9.0</td>\n",
       "      <td>Son</td>\n",
       "      <td>NaN</td>\n",
       "      <td>Male</td>\n",
       "      <td>Student</td>\n",
       "      <td>None</td>\n",
       "      <td>NaN</td>\n",
       "    </tr>\n",
       "    <tr>\n",
       "      <th>10114</th>\n",
       "      <td>1</td>\n",
       "      <td>St.John Haven</td>\n",
       "      <td>Caroline</td>\n",
       "      <td>Morgan</td>\n",
       "      <td>6.0</td>\n",
       "      <td>Daughter</td>\n",
       "      <td>NaN</td>\n",
       "      <td>Female</td>\n",
       "      <td>Student</td>\n",
       "      <td>None</td>\n",
       "      <td>NaN</td>\n",
       "    </tr>\n",
       "    <tr>\n",
       "      <th>10115</th>\n",
       "      <td>1</td>\n",
       "      <td>St.John Haven</td>\n",
       "      <td>Benjamin</td>\n",
       "      <td>Morgan</td>\n",
       "      <td>2.0</td>\n",
       "      <td>Son</td>\n",
       "      <td>NaN</td>\n",
       "      <td>Male</td>\n",
       "      <td>Child</td>\n",
       "      <td>None</td>\n",
       "      <td>NaN</td>\n",
       "    </tr>\n",
       "    <tr>\n",
       "      <th>10116</th>\n",
       "      <td>1</td>\n",
       "      <td>St.John Haven</td>\n",
       "      <td>Kate</td>\n",
       "      <td>Whitehead</td>\n",
       "      <td>51.0</td>\n",
       "      <td>Sibling</td>\n",
       "      <td>Single</td>\n",
       "      <td>Female</td>\n",
       "      <td>Food technologist</td>\n",
       "      <td>None</td>\n",
       "      <td>Christian</td>\n",
       "    </tr>\n",
       "    <tr>\n",
       "      <th>10117</th>\n",
       "      <td>1</td>\n",
       "      <td>St.John Haven</td>\n",
       "      <td>Abigail</td>\n",
       "      <td>Brown</td>\n",
       "      <td>47.0</td>\n",
       "      <td>Lodger</td>\n",
       "      <td>Single</td>\n",
       "      <td>Female</td>\n",
       "      <td>Web designer</td>\n",
       "      <td>None</td>\n",
       "      <td>Catholic</td>\n",
       "    </tr>\n",
       "  </tbody>\n",
       "</table>\n",
       "<p>10118 rows × 11 columns</p>\n",
       "</div>"
      ],
      "text/plain": [
       "       House Number         Street First Name    Surname   Age  \\\n",
       "0                 1     Kaur Drive    Douglas      Adams  77.0   \n",
       "1                 2     Kaur Drive     Hollie       West  79.0   \n",
       "2                 3     Kaur Drive     Joseph       Hall  55.0   \n",
       "3                 4     Kaur Drive    Gregory        Cox  35.0   \n",
       "4                 5     Kaur Drive      Lydia      Jones  42.0   \n",
       "...             ...            ...        ...        ...   ...   \n",
       "10113             1  St.John Haven    Patrick     Morgan   9.0   \n",
       "10114             1  St.John Haven   Caroline     Morgan   6.0   \n",
       "10115             1  St.John Haven   Benjamin     Morgan   2.0   \n",
       "10116             1  St.John Haven       Kate  Whitehead  51.0   \n",
       "10117             1  St.John Haven    Abigail      Brown  47.0   \n",
       "\n",
       "      Relationship to Head of House Marital Status  Gender  \\\n",
       "0                              Head        Widowed    Male   \n",
       "1                              Head         Single  Female   \n",
       "2                              Head         Single    Male   \n",
       "3                              Head         Single    Male   \n",
       "4                              Head         Single  Female   \n",
       "...                             ...            ...     ...   \n",
       "10113                           Son            NaN    Male   \n",
       "10114                      Daughter            NaN  Female   \n",
       "10115                           Son            NaN    Male   \n",
       "10116                       Sibling         Single  Female   \n",
       "10117                        Lodger         Single  Female   \n",
       "\n",
       "                             Occupation Infirmity   Religion  \n",
       "0      Retired Museum education officer      None  Christian  \n",
       "1                        Retired Dealer      None  Christian  \n",
       "2          Fast food restaurant manager      None  Christian  \n",
       "3               Housing manager/officer      None       None  \n",
       "4                            Unemployed      None   Catholic  \n",
       "...                                 ...       ...        ...  \n",
       "10113                           Student      None        NaN  \n",
       "10114                           Student      None        NaN  \n",
       "10115                             Child      None        NaN  \n",
       "10116                 Food technologist      None  Christian  \n",
       "10117                      Web designer      None   Catholic  \n",
       "\n",
       "[10118 rows x 11 columns]"
      ]
     },
     "execution_count": 2,
     "metadata": {},
     "output_type": "execute_result"
    }
   ],
   "source": [
    "# reading the data set\n",
    "data = pd.read_csv('census02.csv')\n",
    "data"
   ]
  },
  {
   "cell_type": "code",
   "execution_count": 3,
   "id": "d3efcad6",
   "metadata": {},
   "outputs": [
    {
     "data": {
      "text/plain": [
       "Index(['House Number', 'Street', 'First Name', 'Surname', 'Age',\n",
       "       'Relationship to Head of House', 'Marital Status', 'Gender',\n",
       "       'Occupation', 'Infirmity', 'Religion'],\n",
       "      dtype='object')"
      ]
     },
     "execution_count": 3,
     "metadata": {},
     "output_type": "execute_result"
    }
   ],
   "source": [
    "#checking columns\n",
    "data.columns"
   ]
  },
  {
   "cell_type": "markdown",
   "id": "7bc06844",
   "metadata": {},
   "source": [
    "# DATA CLEANING"
   ]
  },
  {
   "cell_type": "markdown",
   "id": "535b4e86",
   "metadata": {},
   "source": [
    "### Checking for duplicate data and dropping them if any"
   ]
  },
  {
   "cell_type": "code",
   "execution_count": 4,
   "id": "a2c3cc23",
   "metadata": {},
   "outputs": [
    {
     "data": {
      "text/html": [
       "<div>\n",
       "<style scoped>\n",
       "    .dataframe tbody tr th:only-of-type {\n",
       "        vertical-align: middle;\n",
       "    }\n",
       "\n",
       "    .dataframe tbody tr th {\n",
       "        vertical-align: top;\n",
       "    }\n",
       "\n",
       "    .dataframe thead th {\n",
       "        text-align: right;\n",
       "    }\n",
       "</style>\n",
       "<table border=\"1\" class=\"dataframe\">\n",
       "  <thead>\n",
       "    <tr style=\"text-align: right;\">\n",
       "      <th></th>\n",
       "      <th>House Number</th>\n",
       "      <th>Street</th>\n",
       "      <th>First Name</th>\n",
       "      <th>Surname</th>\n",
       "      <th>Age</th>\n",
       "      <th>Relationship to Head of House</th>\n",
       "      <th>Marital Status</th>\n",
       "      <th>Gender</th>\n",
       "      <th>Occupation</th>\n",
       "      <th>Infirmity</th>\n",
       "      <th>Religion</th>\n",
       "    </tr>\n",
       "  </thead>\n",
       "  <tbody>\n",
       "    <tr>\n",
       "      <th>7729</th>\n",
       "      <td>45</td>\n",
       "      <td>O'Connor Crossroad</td>\n",
       "      <td>Scott</td>\n",
       "      <td>Cook</td>\n",
       "      <td>5.0</td>\n",
       "      <td>Son</td>\n",
       "      <td>NaN</td>\n",
       "      <td>Male</td>\n",
       "      <td>Student</td>\n",
       "      <td>None</td>\n",
       "      <td>NaN</td>\n",
       "    </tr>\n",
       "  </tbody>\n",
       "</table>\n",
       "</div>"
      ],
      "text/plain": [
       "      House Number              Street First Name Surname  Age  \\\n",
       "7729            45  O'Connor Crossroad      Scott    Cook  5.0   \n",
       "\n",
       "     Relationship to Head of House Marital Status Gender Occupation Infirmity  \\\n",
       "7729                           Son            NaN   Male    Student      None   \n",
       "\n",
       "     Religion  \n",
       "7729      NaN  "
      ]
     },
     "execution_count": 4,
     "metadata": {},
     "output_type": "execute_result"
    }
   ],
   "source": [
    "duplicates=data.duplicated()\n",
    "data[duplicates]"
   ]
  },
  {
   "cell_type": "code",
   "execution_count": 5,
   "id": "aedb30c0",
   "metadata": {},
   "outputs": [],
   "source": [
    "# dropping the duplicate data\n",
    "data.drop_duplicates(inplace = True)"
   ]
  },
  {
   "cell_type": "code",
   "execution_count": 6,
   "id": "b0b2dc79",
   "metadata": {},
   "outputs": [
    {
     "data": {
      "text/plain": [
       "House Number                       int64\n",
       "Street                            object\n",
       "First Name                        object\n",
       "Surname                           object\n",
       "Age                              float64\n",
       "Relationship to Head of House     object\n",
       "Marital Status                    object\n",
       "Gender                            object\n",
       "Occupation                        object\n",
       "Infirmity                         object\n",
       "Religion                          object\n",
       "dtype: object"
      ]
     },
     "execution_count": 6,
     "metadata": {},
     "output_type": "execute_result"
    }
   ],
   "source": [
    "#checking data types\n",
    "data.dtypes"
   ]
  },
  {
   "cell_type": "code",
   "execution_count": 7,
   "id": "3acd1c53",
   "metadata": {},
   "outputs": [
    {
     "data": {
      "text/plain": [
       "House Number                        0\n",
       "Street                              0\n",
       "First Name                          0\n",
       "Surname                             0\n",
       "Age                                 0\n",
       "Relationship to Head of House       0\n",
       "Marital Status                   2483\n",
       "Gender                              0\n",
       "Occupation                          0\n",
       "Infirmity                           0\n",
       "Religion                         2540\n",
       "dtype: int64"
      ]
     },
     "execution_count": 7,
     "metadata": {},
     "output_type": "execute_result"
    }
   ],
   "source": [
    "#checking for nan values\n",
    "data.isnull().sum()"
   ]
  },
  {
   "cell_type": "markdown",
   "id": "4cebb6b0",
   "metadata": {},
   "source": [
    "### Null values will be dealt with during the cleaning of the respective columns"
   ]
  },
  {
   "cell_type": "markdown",
   "id": "505261ff",
   "metadata": {},
   "source": [
    "## CLEANING AGE COLUMN"
   ]
  },
  {
   "cell_type": "code",
   "execution_count": 8,
   "id": "88a44af6",
   "metadata": {},
   "outputs": [
    {
     "data": {
      "text/plain": [
       "array([ 77.        ,  79.        ,  55.        ,  35.        ,\n",
       "        42.        ,   3.        ,  80.        ,  12.        ,\n",
       "        76.        ,  46.        ,  27.        ,   2.        ,\n",
       "        54.        ,   1.        ,  70.        ,  72.        ,\n",
       "        34.        ,  68.        ,  40.        ,  37.        ,\n",
       "        48.        ,  38.        ,   8.        ,  75.        ,\n",
       "        67.        ,  89.        ,  88.        ,  64.        ,\n",
       "         0.        ,  49.        ,  22.        ,  59.        ,\n",
       "        36.        ,  44.        ,  60.        ,  11.        ,\n",
       "        23.        ,  29.        ,  58.        ,  50.        ,\n",
       "        20.        ,  21.        ,  17.        ,  14.        ,\n",
       "        33.        ,  10.        ,  31.        ,  47.        ,\n",
       "        16.        ,  19.        ,  41.        ,  43.        ,\n",
       "         5.        ,  57.        ,   9.        ,  28.        ,\n",
       "        32.        ,  45.        ,  53.        ,  15.        ,\n",
       "        39.        ,  30.        ,  78.        ,  63.        ,\n",
       "        51.        ,  52.        ,  74.        ,  18.        ,\n",
       "        66.        ,  69.        ,  83.        ,  86.        ,\n",
       "        25.        ,  24.        ,  62.        ,  13.        ,\n",
       "        81.        ,   4.        ,  73.        ,   6.        ,\n",
       "        61.        ,  26.        ,  56.        ,  65.        ,\n",
       "         7.        ,  82.        ,  84.        ,  87.        ,\n",
       "        92.        ,  90.        ,  71.        , 105.        ,\n",
       "        85.        , 106.        ,  99.        ,  97.        ,\n",
       "        96.        , 103.        , 104.        , 108.        ,\n",
       "        91.        , 102.        ,  94.        ,  95.        ,\n",
       "        98.        , 101.        ,  99.92103697,  46.        ,\n",
       "        44.        ,  69.67327149, 109.        , 111.        ,\n",
       "       120.        ,  56.68116893,  57.60038116,  61.60038116,\n",
       "        93.        ])"
      ]
     },
     "execution_count": 8,
     "metadata": {},
     "output_type": "execute_result"
    }
   ],
   "source": [
    "#Checking for unique values in the age column to better understand why it is a float dtype\n",
    "data[\"Age\"].unique()"
   ]
  },
  {
   "cell_type": "markdown",
   "id": "2be80778",
   "metadata": {},
   "source": [
    "### Cleaning the Age column by converting all values to int, thereby rounding down the float values to the nearest int to represent the true ages of the individuals"
   ]
  },
  {
   "cell_type": "code",
   "execution_count": 9,
   "id": "fe424bb6",
   "metadata": {},
   "outputs": [],
   "source": [
    "#converting to int\n",
    "data['Age'] = data['Age'].astype(int)"
   ]
  },
  {
   "cell_type": "code",
   "execution_count": 10,
   "id": "ecd36c05",
   "metadata": {},
   "outputs": [
    {
     "data": {
      "text/plain": [
       "array([ 77,  79,  55,  35,  42,   3,  80,  12,  76,  46,  27,   2,  54,\n",
       "         1,  70,  72,  34,  68,  40,  37,  48,  38,   8,  75,  67,  89,\n",
       "        88,  64,   0,  49,  22,  59,  36,  44,  60,  11,  23,  29,  58,\n",
       "        50,  20,  21,  17,  14,  33,  10,  31,  47,  16,  19,  41,  43,\n",
       "         5,  57,   9,  28,  32,  45,  53,  15,  39,  30,  78,  63,  51,\n",
       "        52,  74,  18,  66,  69,  83,  86,  25,  24,  62,  13,  81,   4,\n",
       "        73,   6,  61,  26,  56,  65,   7,  82,  84,  87,  92,  90,  71,\n",
       "       105,  85, 106,  99,  97,  96, 103, 104, 108,  91, 102,  94,  95,\n",
       "        98, 101, 109, 111, 120,  93])"
      ]
     },
     "execution_count": 10,
     "metadata": {},
     "output_type": "execute_result"
    }
   ],
   "source": [
    "#confirming unique values\n",
    "data[\"Age\"].unique()"
   ]
  },
  {
   "cell_type": "markdown",
   "id": "f8811cf5",
   "metadata": {},
   "source": [
    "## Cleaning the Gender column"
   ]
  },
  {
   "cell_type": "code",
   "execution_count": 11,
   "id": "a6cc8300",
   "metadata": {},
   "outputs": [
    {
     "data": {
      "text/plain": [
       "Female    5269\n",
       "Male      4847\n",
       "             1\n",
       "Name: Gender, dtype: int64"
      ]
     },
     "execution_count": 11,
     "metadata": {},
     "output_type": "execute_result"
    }
   ],
   "source": [
    "# checking the number of unique values in the gender column\n",
    "data[\"Gender\"].value_counts()"
   ]
  },
  {
   "cell_type": "markdown",
   "id": "e0d93226",
   "metadata": {},
   "source": [
    "### The unallocated gender would be located along with the neighboring rows to find any relationship that could provide insight as to the missing value"
   ]
  },
  {
   "cell_type": "code",
   "execution_count": 12,
   "id": "686d8c36",
   "metadata": {},
   "outputs": [
    {
     "data": {
      "text/html": [
       "<div>\n",
       "<style scoped>\n",
       "    .dataframe tbody tr th:only-of-type {\n",
       "        vertical-align: middle;\n",
       "    }\n",
       "\n",
       "    .dataframe tbody tr th {\n",
       "        vertical-align: top;\n",
       "    }\n",
       "\n",
       "    .dataframe thead th {\n",
       "        text-align: right;\n",
       "    }\n",
       "</style>\n",
       "<table border=\"1\" class=\"dataframe\">\n",
       "  <thead>\n",
       "    <tr style=\"text-align: right;\">\n",
       "      <th></th>\n",
       "      <th>House Number</th>\n",
       "      <th>Street</th>\n",
       "      <th>First Name</th>\n",
       "      <th>Surname</th>\n",
       "      <th>Age</th>\n",
       "      <th>Relationship to Head of House</th>\n",
       "      <th>Marital Status</th>\n",
       "      <th>Gender</th>\n",
       "      <th>Occupation</th>\n",
       "      <th>Infirmity</th>\n",
       "      <th>Religion</th>\n",
       "    </tr>\n",
       "  </thead>\n",
       "  <tbody>\n",
       "    <tr>\n",
       "      <th>273</th>\n",
       "      <td>7</td>\n",
       "      <td>Kraken Road</td>\n",
       "      <td>Dale</td>\n",
       "      <td>Powell</td>\n",
       "      <td>79</td>\n",
       "      <td>Head</td>\n",
       "      <td>Married</td>\n",
       "      <td></td>\n",
       "      <td>Retired TEFL teacher</td>\n",
       "      <td>None</td>\n",
       "      <td>None</td>\n",
       "    </tr>\n",
       "  </tbody>\n",
       "</table>\n",
       "</div>"
      ],
      "text/plain": [
       "     House Number       Street First Name Surname  Age  \\\n",
       "273             7  Kraken Road       Dale  Powell   79   \n",
       "\n",
       "    Relationship to Head of House Marital Status Gender            Occupation  \\\n",
       "273                          Head        Married         Retired TEFL teacher   \n",
       "\n",
       "    Infirmity Religion  \n",
       "273      None     None  "
      ]
     },
     "execution_count": 12,
     "metadata": {},
     "output_type": "execute_result"
    }
   ],
   "source": [
    "# unallocated gender cleaning\n",
    "data.loc[data['Gender'] == \" \"]"
   ]
  },
  {
   "cell_type": "code",
   "execution_count": 13,
   "id": "3f4030b4",
   "metadata": {},
   "outputs": [
    {
     "name": "stdout",
     "output_type": "stream",
     "text": [
      "     House Number       Street First Name Surname  Age  \\\n",
      "271             6  Kraken Road      Garry   Bryan   38   \n",
      "272             6  Kraken Road     Hollie   Bryan   38   \n",
      "273             7  Kraken Road       Dale  Powell   79   \n",
      "274             7  Kraken Road    Jessica  Powell   78   \n",
      "\n",
      "    Relationship to Head of House Marital Status  Gender  \\\n",
      "271                          Head        Married    Male   \n",
      "272                          Wife        Married  Female   \n",
      "273                          Head        Married           \n",
      "274                          Wife        Married  Female   \n",
      "\n",
      "                        Occupation Infirmity Religion  \n",
      "271                     Unemployed      None     None  \n",
      "272            Mechanical engineer      None     None  \n",
      "273           Retired TEFL teacher      None     None  \n",
      "274  Retired Journalist, newspaper      None     None  \n"
     ]
    }
   ],
   "source": [
    "# since the entry is for a married person, we look at neighbouring rows if we can figure out their gender\n",
    "print(data.iloc[271:275])"
   ]
  },
  {
   "cell_type": "markdown",
   "id": "04f3ce00",
   "metadata": {},
   "source": [
    "### Neighboring rows indicate Dale Powell is the husband to Jessica Powell it can therefore be deduced that he is male so his gender would be assigned accordingly."
   ]
  },
  {
   "cell_type": "code",
   "execution_count": 14,
   "id": "8ccf8584",
   "metadata": {},
   "outputs": [],
   "source": [
    "# Assigning male gender to Dale Powell\n",
    "data['Gender'] = data['Gender'].replace(\" \", \"Male\")"
   ]
  },
  {
   "cell_type": "code",
   "execution_count": 15,
   "id": "91bb21dd",
   "metadata": {},
   "outputs": [
    {
     "data": {
      "text/plain": [
       "Female    5269\n",
       "Male      4848\n",
       "Name: Gender, dtype: int64"
      ]
     },
     "execution_count": 15,
     "metadata": {},
     "output_type": "execute_result"
    }
   ],
   "source": [
    "#Confirming Gender column is totally clean\n",
    "data[\"Gender\"].value_counts()"
   ]
  },
  {
   "cell_type": "markdown",
   "id": "52c5cd2d",
   "metadata": {},
   "source": [
    "## Cleaning the Religion column"
   ]
  },
  {
   "cell_type": "code",
   "execution_count": 16,
   "id": "1649fd33",
   "metadata": {},
   "outputs": [
    {
     "data": {
      "text/plain": [
       "None         3454\n",
       "Christian    2135\n",
       "Catholic     1093\n",
       "Methodist     628\n",
       "Muslim        142\n",
       "Sikh           68\n",
       "Jewish         47\n",
       "Agnostic        2\n",
       "                2\n",
       "Pagan           1\n",
       "Bahai           1\n",
       "Undecided       1\n",
       "Sith            1\n",
       "Nope            1\n",
       "Jedi            1\n",
       "Name: Religion, dtype: int64"
      ]
     },
     "execution_count": 16,
     "metadata": {},
     "output_type": "execute_result"
    }
   ],
   "source": [
    "#checking unique values\n",
    "data[\"Religion\"].value_counts()"
   ]
  },
  {
   "cell_type": "markdown",
   "id": "ca82aaa5",
   "metadata": {},
   "source": [
    "### 2541 Nan values had already been noticed earlier and further inspection now also shows some strange values Jedi, Sith and Nope which arent actual religions. Jedi being a starwars reference, Sith probably being a typographical error for Sikh(Sikhism) and nope probably indicating None. \n",
    "\n",
    "### There is no logical approach to assigning religion because it is faith based and independent, and it is not uncommon for people in the same household to practice different religions. all null values would be changed to Not Available creating a clear distinction between not available and None as those who filled none showed a clear indication of no religious affiliations. Undecided would also be changed to Not available"
   ]
  },
  {
   "cell_type": "code",
   "execution_count": 17,
   "id": "b6fd86a9",
   "metadata": {},
   "outputs": [],
   "source": [
    "# reassigning wrong inputs as necessary\n",
    "data['Religion'].fillna('Not Available', inplace=True)\n",
    "data['Religion'] = data['Religion'].replace(\" \", \"Not Available\")\n",
    "data['Religion'] = data['Religion'].replace(\"Sith\", \"Sikh\")\n",
    "data['Religion'] = data['Religion'].replace(\"Nope\", \"None\")\n",
    "data['Religion'] = data['Religion'].replace(\"Jedi\", \"Not Available\")\n",
    "data['Religion'] = data['Religion'].replace(\"Undecided\", \"Not Available\")"
   ]
  },
  {
   "cell_type": "code",
   "execution_count": 18,
   "id": "4c51bf25",
   "metadata": {},
   "outputs": [
    {
     "data": {
      "text/plain": [
       "None             3455\n",
       "Not Available    2544\n",
       "Christian        2135\n",
       "Catholic         1093\n",
       "Methodist         628\n",
       "Muslim            142\n",
       "Sikh               69\n",
       "Jewish             47\n",
       "Agnostic            2\n",
       "Pagan               1\n",
       "Bahai               1\n",
       "Name: Religion, dtype: int64"
      ]
     },
     "execution_count": 18,
     "metadata": {},
     "output_type": "execute_result"
    }
   ],
   "source": [
    "# confirming Religion column is totally clean\n",
    "data[\"Religion\"].value_counts()"
   ]
  },
  {
   "cell_type": "markdown",
   "id": "1b1f794c",
   "metadata": {},
   "source": [
    "# Cleaning Marital Status Column"
   ]
  },
  {
   "cell_type": "markdown",
   "id": "17b15f73",
   "metadata": {},
   "source": [
    "### Earlier inspection for nan values in the dataset showed 2483 nan values in the Marital Status column. A quick overview of those nan values would be done to try to identify any unique collective features"
   ]
  },
  {
   "cell_type": "code",
   "execution_count": 19,
   "id": "dc1e359e",
   "metadata": {
    "scrolled": false
   },
   "outputs": [
    {
     "data": {
      "text/html": [
       "<div>\n",
       "<style scoped>\n",
       "    .dataframe tbody tr th:only-of-type {\n",
       "        vertical-align: middle;\n",
       "    }\n",
       "\n",
       "    .dataframe tbody tr th {\n",
       "        vertical-align: top;\n",
       "    }\n",
       "\n",
       "    .dataframe thead th {\n",
       "        text-align: right;\n",
       "    }\n",
       "</style>\n",
       "<table border=\"1\" class=\"dataframe\">\n",
       "  <thead>\n",
       "    <tr style=\"text-align: right;\">\n",
       "      <th></th>\n",
       "      <th>House Number</th>\n",
       "      <th>Street</th>\n",
       "      <th>First Name</th>\n",
       "      <th>Surname</th>\n",
       "      <th>Age</th>\n",
       "      <th>Relationship to Head of House</th>\n",
       "      <th>Marital Status</th>\n",
       "      <th>Gender</th>\n",
       "      <th>Occupation</th>\n",
       "      <th>Infirmity</th>\n",
       "      <th>Religion</th>\n",
       "    </tr>\n",
       "  </thead>\n",
       "  <tbody>\n",
       "    <tr>\n",
       "      <th>5</th>\n",
       "      <td>5</td>\n",
       "      <td>Kaur Drive</td>\n",
       "      <td>Francis</td>\n",
       "      <td>Jones</td>\n",
       "      <td>3</td>\n",
       "      <td>Son</td>\n",
       "      <td>NaN</td>\n",
       "      <td>Male</td>\n",
       "      <td>Child</td>\n",
       "      <td>None</td>\n",
       "      <td>Not Available</td>\n",
       "    </tr>\n",
       "    <tr>\n",
       "      <th>7</th>\n",
       "      <td>6</td>\n",
       "      <td>Kaur Drive</td>\n",
       "      <td>Ruth</td>\n",
       "      <td>Godfrey</td>\n",
       "      <td>12</td>\n",
       "      <td>Granddaughter</td>\n",
       "      <td>NaN</td>\n",
       "      <td>Female</td>\n",
       "      <td>Student</td>\n",
       "      <td>None</td>\n",
       "      <td>Not Available</td>\n",
       "    </tr>\n",
       "    <tr>\n",
       "      <th>11</th>\n",
       "      <td>9</td>\n",
       "      <td>Kaur Drive</td>\n",
       "      <td>Samantha</td>\n",
       "      <td>Sheppard-Dean</td>\n",
       "      <td>2</td>\n",
       "      <td>Daughter</td>\n",
       "      <td>NaN</td>\n",
       "      <td>Female</td>\n",
       "      <td>Child</td>\n",
       "      <td>None</td>\n",
       "      <td>Not Available</td>\n",
       "    </tr>\n",
       "    <tr>\n",
       "      <th>14</th>\n",
       "      <td>11</td>\n",
       "      <td>Kaur Drive</td>\n",
       "      <td>Billy</td>\n",
       "      <td>Wilkinson</td>\n",
       "      <td>3</td>\n",
       "      <td>Son</td>\n",
       "      <td>NaN</td>\n",
       "      <td>Male</td>\n",
       "      <td>Child</td>\n",
       "      <td>None</td>\n",
       "      <td>Not Available</td>\n",
       "    </tr>\n",
       "    <tr>\n",
       "      <th>15</th>\n",
       "      <td>11</td>\n",
       "      <td>Kaur Drive</td>\n",
       "      <td>Mathew</td>\n",
       "      <td>Wilkinson</td>\n",
       "      <td>1</td>\n",
       "      <td>Son</td>\n",
       "      <td>NaN</td>\n",
       "      <td>Male</td>\n",
       "      <td>Child</td>\n",
       "      <td>None</td>\n",
       "      <td>Not Available</td>\n",
       "    </tr>\n",
       "    <tr>\n",
       "      <th>...</th>\n",
       "      <td>...</td>\n",
       "      <td>...</td>\n",
       "      <td>...</td>\n",
       "      <td>...</td>\n",
       "      <td>...</td>\n",
       "      <td>...</td>\n",
       "      <td>...</td>\n",
       "      <td>...</td>\n",
       "      <td>...</td>\n",
       "      <td>...</td>\n",
       "      <td>...</td>\n",
       "    </tr>\n",
       "    <tr>\n",
       "      <th>10111</th>\n",
       "      <td>1</td>\n",
       "      <td>St.John Haven</td>\n",
       "      <td>Jill</td>\n",
       "      <td>Johnson</td>\n",
       "      <td>13</td>\n",
       "      <td>Daughter</td>\n",
       "      <td>NaN</td>\n",
       "      <td>Female</td>\n",
       "      <td>Student</td>\n",
       "      <td>None</td>\n",
       "      <td>Not Available</td>\n",
       "    </tr>\n",
       "    <tr>\n",
       "      <th>10112</th>\n",
       "      <td>1</td>\n",
       "      <td>St.John Haven</td>\n",
       "      <td>Max</td>\n",
       "      <td>Morgan</td>\n",
       "      <td>10</td>\n",
       "      <td>Son</td>\n",
       "      <td>NaN</td>\n",
       "      <td>Male</td>\n",
       "      <td>Student</td>\n",
       "      <td>None</td>\n",
       "      <td>Not Available</td>\n",
       "    </tr>\n",
       "    <tr>\n",
       "      <th>10113</th>\n",
       "      <td>1</td>\n",
       "      <td>St.John Haven</td>\n",
       "      <td>Patrick</td>\n",
       "      <td>Morgan</td>\n",
       "      <td>9</td>\n",
       "      <td>Son</td>\n",
       "      <td>NaN</td>\n",
       "      <td>Male</td>\n",
       "      <td>Student</td>\n",
       "      <td>None</td>\n",
       "      <td>Not Available</td>\n",
       "    </tr>\n",
       "    <tr>\n",
       "      <th>10114</th>\n",
       "      <td>1</td>\n",
       "      <td>St.John Haven</td>\n",
       "      <td>Caroline</td>\n",
       "      <td>Morgan</td>\n",
       "      <td>6</td>\n",
       "      <td>Daughter</td>\n",
       "      <td>NaN</td>\n",
       "      <td>Female</td>\n",
       "      <td>Student</td>\n",
       "      <td>None</td>\n",
       "      <td>Not Available</td>\n",
       "    </tr>\n",
       "    <tr>\n",
       "      <th>10115</th>\n",
       "      <td>1</td>\n",
       "      <td>St.John Haven</td>\n",
       "      <td>Benjamin</td>\n",
       "      <td>Morgan</td>\n",
       "      <td>2</td>\n",
       "      <td>Son</td>\n",
       "      <td>NaN</td>\n",
       "      <td>Male</td>\n",
       "      <td>Child</td>\n",
       "      <td>None</td>\n",
       "      <td>Not Available</td>\n",
       "    </tr>\n",
       "  </tbody>\n",
       "</table>\n",
       "<p>2483 rows × 11 columns</p>\n",
       "</div>"
      ],
      "text/plain": [
       "       House Number         Street First Name        Surname  Age  \\\n",
       "5                 5     Kaur Drive    Francis          Jones    3   \n",
       "7                 6     Kaur Drive       Ruth        Godfrey   12   \n",
       "11                9     Kaur Drive   Samantha  Sheppard-Dean    2   \n",
       "14               11     Kaur Drive      Billy      Wilkinson    3   \n",
       "15               11     Kaur Drive     Mathew      Wilkinson    1   \n",
       "...             ...            ...        ...            ...  ...   \n",
       "10111             1  St.John Haven       Jill        Johnson   13   \n",
       "10112             1  St.John Haven        Max         Morgan   10   \n",
       "10113             1  St.John Haven    Patrick         Morgan    9   \n",
       "10114             1  St.John Haven   Caroline         Morgan    6   \n",
       "10115             1  St.John Haven   Benjamin         Morgan    2   \n",
       "\n",
       "      Relationship to Head of House Marital Status  Gender Occupation  \\\n",
       "5                               Son            NaN    Male      Child   \n",
       "7                     Granddaughter            NaN  Female    Student   \n",
       "11                         Daughter            NaN  Female      Child   \n",
       "14                              Son            NaN    Male      Child   \n",
       "15                              Son            NaN    Male      Child   \n",
       "...                             ...            ...     ...        ...   \n",
       "10111                      Daughter            NaN  Female    Student   \n",
       "10112                           Son            NaN    Male    Student   \n",
       "10113                           Son            NaN    Male    Student   \n",
       "10114                      Daughter            NaN  Female    Student   \n",
       "10115                           Son            NaN    Male      Child   \n",
       "\n",
       "      Infirmity       Religion  \n",
       "5          None  Not Available  \n",
       "7          None  Not Available  \n",
       "11         None  Not Available  \n",
       "14         None  Not Available  \n",
       "15         None  Not Available  \n",
       "...         ...            ...  \n",
       "10111      None  Not Available  \n",
       "10112      None  Not Available  \n",
       "10113      None  Not Available  \n",
       "10114      None  Not Available  \n",
       "10115      None  Not Available  \n",
       "\n",
       "[2483 rows x 11 columns]"
      ]
     },
     "execution_count": 19,
     "metadata": {},
     "output_type": "execute_result"
    }
   ],
   "source": [
    "#inspecting null values in the marital status column\n",
    "data[data['Marital Status'].isnull()]"
   ]
  },
  {
   "cell_type": "markdown",
   "id": "81f94226",
   "metadata": {},
   "source": [
    "### The Overview indicates that the majority of the nan values are for minors below the marrying age of 18 years (Gov.uk, 2023). this could be indicative of parents or head of house filling out census information for their minors and leaving the marital status column blank since it is inapplicable "
   ]
  },
  {
   "cell_type": "code",
   "execution_count": 20,
   "id": "6c7fc592",
   "metadata": {},
   "outputs": [
    {
     "name": "stdout",
     "output_type": "stream",
     "text": [
      "Number of people with NaN values in Marital Status and age below 18: 2483\n"
     ]
    }
   ],
   "source": [
    "# confirmation that all Nan values belong to individuals below 18 years.\n",
    "marital_subset = data[(data['Marital Status'].isnull()) & (data['Age'] < 18)]\n",
    "print(\"Number of people with NaN values in Marital Status and age below 18:\", len(marital_subset))"
   ]
  },
  {
   "cell_type": "markdown",
   "id": "7436838c",
   "metadata": {},
   "source": [
    "### This confirms that all nan values are below 18 years as the total tallies with the number of Nan values in the column, so all of them would be changed to Ineligible instead of Single, creating a clear distinction between single adults and ineligible minors"
   ]
  },
  {
   "cell_type": "code",
   "execution_count": 21,
   "id": "e22d0fd7",
   "metadata": {},
   "outputs": [],
   "source": [
    "# Converting nan underage to ineligible\n",
    "data.loc[data['Age'] < 18, 'Marital Status'] = data.loc[data['Age'] < 18, 'Marital Status'].fillna('Ineligible')"
   ]
  },
  {
   "cell_type": "code",
   "execution_count": 22,
   "id": "f08dd0f3",
   "metadata": {},
   "outputs": [
    {
     "data": {
      "text/html": [
       "<div>\n",
       "<style scoped>\n",
       "    .dataframe tbody tr th:only-of-type {\n",
       "        vertical-align: middle;\n",
       "    }\n",
       "\n",
       "    .dataframe tbody tr th {\n",
       "        vertical-align: top;\n",
       "    }\n",
       "\n",
       "    .dataframe thead th {\n",
       "        text-align: right;\n",
       "    }\n",
       "</style>\n",
       "<table border=\"1\" class=\"dataframe\">\n",
       "  <thead>\n",
       "    <tr style=\"text-align: right;\">\n",
       "      <th></th>\n",
       "      <th>House Number</th>\n",
       "      <th>Street</th>\n",
       "      <th>First Name</th>\n",
       "      <th>Surname</th>\n",
       "      <th>Age</th>\n",
       "      <th>Relationship to Head of House</th>\n",
       "      <th>Marital Status</th>\n",
       "      <th>Gender</th>\n",
       "      <th>Occupation</th>\n",
       "      <th>Infirmity</th>\n",
       "      <th>Religion</th>\n",
       "    </tr>\n",
       "  </thead>\n",
       "  <tbody>\n",
       "  </tbody>\n",
       "</table>\n",
       "</div>"
      ],
      "text/plain": [
       "Empty DataFrame\n",
       "Columns: [House Number, Street, First Name, Surname, Age, Relationship to Head of House, Marital Status, Gender, Occupation, Infirmity, Religion]\n",
       "Index: []"
      ]
     },
     "execution_count": 22,
     "metadata": {},
     "output_type": "execute_result"
    }
   ],
   "source": [
    "# confirming nan values have been cleared\n",
    "data[data['Marital Status'].isna()]"
   ]
  },
  {
   "cell_type": "markdown",
   "id": "7af3b834",
   "metadata": {},
   "source": [
    "### Further inspection to be sure there are no married values under 18 years"
   ]
  },
  {
   "cell_type": "code",
   "execution_count": 23,
   "id": "a0e0b2b8",
   "metadata": {},
   "outputs": [
    {
     "data": {
      "text/html": [
       "<div>\n",
       "<style scoped>\n",
       "    .dataframe tbody tr th:only-of-type {\n",
       "        vertical-align: middle;\n",
       "    }\n",
       "\n",
       "    .dataframe tbody tr th {\n",
       "        vertical-align: top;\n",
       "    }\n",
       "\n",
       "    .dataframe thead th {\n",
       "        text-align: right;\n",
       "    }\n",
       "</style>\n",
       "<table border=\"1\" class=\"dataframe\">\n",
       "  <thead>\n",
       "    <tr style=\"text-align: right;\">\n",
       "      <th></th>\n",
       "      <th>House Number</th>\n",
       "      <th>Street</th>\n",
       "      <th>First Name</th>\n",
       "      <th>Surname</th>\n",
       "      <th>Age</th>\n",
       "      <th>Relationship to Head of House</th>\n",
       "      <th>Marital Status</th>\n",
       "      <th>Gender</th>\n",
       "      <th>Occupation</th>\n",
       "      <th>Infirmity</th>\n",
       "      <th>Religion</th>\n",
       "    </tr>\n",
       "  </thead>\n",
       "  <tbody>\n",
       "    <tr>\n",
       "      <th>9582</th>\n",
       "      <td>18</td>\n",
       "      <td>Estuary Roads</td>\n",
       "      <td>Marie</td>\n",
       "      <td>Patterson</td>\n",
       "      <td>17</td>\n",
       "      <td>Head</td>\n",
       "      <td>Married</td>\n",
       "      <td>Female</td>\n",
       "      <td>Student</td>\n",
       "      <td>None</td>\n",
       "      <td>Not Available</td>\n",
       "    </tr>\n",
       "  </tbody>\n",
       "</table>\n",
       "</div>"
      ],
      "text/plain": [
       "      House Number         Street First Name    Surname  Age  \\\n",
       "9582            18  Estuary Roads      Marie  Patterson   17   \n",
       "\n",
       "     Relationship to Head of House Marital Status  Gender Occupation  \\\n",
       "9582                          Head        Married  Female    Student   \n",
       "\n",
       "     Infirmity       Religion  \n",
       "9582      None  Not Available  "
      ]
     },
     "execution_count": 23,
     "metadata": {},
     "output_type": "execute_result"
    }
   ],
   "source": [
    "#extracting married respondents under 18 years\n",
    "married_u18 = data[(data['Age'] < 18) & (data['Marital Status'] == 'Married')]\n",
    "married_u18"
   ]
  },
  {
   "cell_type": "code",
   "execution_count": 24,
   "id": "ee92df75",
   "metadata": {},
   "outputs": [
    {
     "name": "stdout",
     "output_type": "stream",
     "text": [
      "      House Number         Street First Name    Surname  Age  \\\n",
      "9581            17  Estuary Roads        Ben    Jackson   87   \n",
      "9582            18  Estuary Roads      Marie  Patterson   17   \n",
      "9583            18  Estuary Roads    Cameron  Patterson   20   \n",
      "9584            18  Estuary Roads    Vanessa  Patterson    0   \n",
      "9585            18  Estuary Roads    Shannon   Fletcher   43   \n",
      "\n",
      "     Relationship to Head of House Marital Status  Gender  \\\n",
      "9581                       Husband        Married    Male   \n",
      "9582                          Head        Married  Female   \n",
      "9583                       Husband        Married    Male   \n",
      "9584                      Daughter     Ineligible  Female   \n",
      "9585                        Lodger         Single  Female   \n",
      "\n",
      "                            Occupation Infirmity       Religion  \n",
      "9581  Retired Arts development officer      None           None  \n",
      "9582                           Student      None  Not Available  \n",
      "9583                University Student      None           None  \n",
      "9584                             Child      None  Not Available  \n",
      "9585                    Office manager      None      Christian  \n"
     ]
    }
   ],
   "source": [
    "#checking neighboring rows\n",
    "print(data.iloc[9580:9585])"
   ]
  },
  {
   "cell_type": "markdown",
   "id": "af6c9d32",
   "metadata": {},
   "source": [
    "### The marriage between Marie Patterson and Cameron Patterson seems to be indicative of an illegal marriage as 18 is the legal marrying age. I considered dropping both values from the dataset, but Cameron Patterson is a University Student and the few university students in the dataset would be crucial in further analysis for commuting or bulding a univeristy, so i opted to void the marriage and input Cameron Patterson as Single and Marie Patterson as Inelligible as keeping them would have less impact on the Marriage rate that the impact dropping them would have on the Commuting and University analysis."
   ]
  },
  {
   "cell_type": "code",
   "execution_count": 25,
   "id": "4d867941",
   "metadata": {},
   "outputs": [],
   "source": [
    "#reassigning marital status, and the relationship to the head of house column as well\n",
    "data.loc[9582, 'Marital Status'] = 'Ineligible'\n",
    "data.loc[9583, 'Marital Status'] = 'Single'\n",
    "data.loc[9583, 'Relationship to Head of House'] = 'None'\n"
   ]
  },
  {
   "cell_type": "code",
   "execution_count": 26,
   "id": "cc8f0288",
   "metadata": {},
   "outputs": [
    {
     "name": "stdout",
     "output_type": "stream",
     "text": [
      "      House Number         Street First Name    Surname  Age  \\\n",
      "9582            18  Estuary Roads      Marie  Patterson   17   \n",
      "9583            18  Estuary Roads    Cameron  Patterson   20   \n",
      "\n",
      "     Relationship to Head of House Marital Status  Gender          Occupation  \\\n",
      "9582                          Head     Ineligible  Female             Student   \n",
      "9583                          None         Single    Male  University Student   \n",
      "\n",
      "     Infirmity       Religion  \n",
      "9582      None  Not Available  \n",
      "9583      None           None  \n"
     ]
    }
   ],
   "source": [
    "# Confirming changes\n",
    "print(data.loc[[9582, 9583]])"
   ]
  },
  {
   "cell_type": "markdown",
   "id": "be51b7f2",
   "metadata": {},
   "source": [
    "### Confirming if there are other unique values in the marital status column"
   ]
  },
  {
   "cell_type": "code",
   "execution_count": 27,
   "id": "7bf30a9c",
   "metadata": {
    "scrolled": false
   },
   "outputs": [
    {
     "data": {
      "text/plain": [
       "Single        3738\n",
       "Married       2671\n",
       "Ineligible    2484\n",
       "Divorced       871\n",
       "Widowed        352\n",
       "                 1\n",
       "Name: Marital Status, dtype: int64"
      ]
     },
     "execution_count": 27,
     "metadata": {},
     "output_type": "execute_result"
    }
   ],
   "source": [
    "# Checking unique values in the Marital status column\n",
    "data[\"Marital Status\"].value_counts()"
   ]
  },
  {
   "cell_type": "markdown",
   "id": "92cbfc12",
   "metadata": {},
   "source": [
    "### The blank column would be located and the neighboring rows would be explored for any insight towards assigning the marital status of the missing value"
   ]
  },
  {
   "cell_type": "code",
   "execution_count": 28,
   "id": "c6fe2921",
   "metadata": {},
   "outputs": [
    {
     "data": {
      "text/html": [
       "<div>\n",
       "<style scoped>\n",
       "    .dataframe tbody tr th:only-of-type {\n",
       "        vertical-align: middle;\n",
       "    }\n",
       "\n",
       "    .dataframe tbody tr th {\n",
       "        vertical-align: top;\n",
       "    }\n",
       "\n",
       "    .dataframe thead th {\n",
       "        text-align: right;\n",
       "    }\n",
       "</style>\n",
       "<table border=\"1\" class=\"dataframe\">\n",
       "  <thead>\n",
       "    <tr style=\"text-align: right;\">\n",
       "      <th></th>\n",
       "      <th>House Number</th>\n",
       "      <th>Street</th>\n",
       "      <th>First Name</th>\n",
       "      <th>Surname</th>\n",
       "      <th>Age</th>\n",
       "      <th>Relationship to Head of House</th>\n",
       "      <th>Marital Status</th>\n",
       "      <th>Gender</th>\n",
       "      <th>Occupation</th>\n",
       "      <th>Infirmity</th>\n",
       "      <th>Religion</th>\n",
       "    </tr>\n",
       "  </thead>\n",
       "  <tbody>\n",
       "    <tr>\n",
       "      <th>1941</th>\n",
       "      <td>2</td>\n",
       "      <td>Williams View</td>\n",
       "      <td>Katie</td>\n",
       "      <td>Alexander</td>\n",
       "      <td>66</td>\n",
       "      <td>Head</td>\n",
       "      <td></td>\n",
       "      <td>Female</td>\n",
       "      <td>Leisure centre manager</td>\n",
       "      <td>None</td>\n",
       "      <td>Methodist</td>\n",
       "    </tr>\n",
       "  </tbody>\n",
       "</table>\n",
       "</div>"
      ],
      "text/plain": [
       "      House Number         Street First Name    Surname  Age  \\\n",
       "1941             2  Williams View      Katie  Alexander   66   \n",
       "\n",
       "     Relationship to Head of House Marital Status  Gender  \\\n",
       "1941                          Head                 Female   \n",
       "\n",
       "                  Occupation Infirmity   Religion  \n",
       "1941  Leisure centre manager      None  Methodist  "
      ]
     },
     "execution_count": 28,
     "metadata": {},
     "output_type": "execute_result"
    }
   ],
   "source": [
    "# locting the blank value\n",
    "data.loc[data[\"Marital Status\"] == \" \"]"
   ]
  },
  {
   "cell_type": "code",
   "execution_count": 29,
   "id": "7e71a0ff",
   "metadata": {},
   "outputs": [
    {
     "name": "stdout",
     "output_type": "stream",
     "text": [
      "      House Number         Street First Name    Surname  Age  \\\n",
      "1939             1  Williams View        Ben      Singh   35   \n",
      "1940             1  Williams View    Eleanor      Singh    2   \n",
      "1941             2  Williams View      Katie  Alexander   66   \n",
      "1942             2  Williams View   Geoffrey  Alexander   64   \n",
      "1943             3  Williams View      Grace   Campbell   88   \n",
      "1944             4  Williams View       Beth      Adams   54   \n",
      "1945             5  Williams View    Raymond      Noble   32   \n",
      "\n",
      "     Relationship to Head of House Marital Status  Gender  \\\n",
      "1939                       Husband        Married    Male   \n",
      "1940                      Daughter     Ineligible  Female   \n",
      "1941                          Head                 Female   \n",
      "1942                       Husband        Married    Male   \n",
      "1943                          Head        Widowed  Female   \n",
      "1944                          Head       Divorced  Female   \n",
      "1945                          Head         Single    Male   \n",
      "\n",
      "                                Occupation Infirmity       Religion  \n",
      "1939                      Industrial buyer      None      Christian  \n",
      "1940                                 Child      None  Not Available  \n",
      "1941                Leisure centre manager      None      Methodist  \n",
      "1942                     Therapist, sports      None           None  \n",
      "1943  Retired Research scientist (medical)      None      Methodist  \n",
      "1944                Database administrator      None           None  \n",
      "1945                         IT consultant      None           None  \n"
     ]
    }
   ],
   "source": [
    "# locating neighboring rows\n",
    "print(data.iloc[1939:1946])"
   ]
  },
  {
   "cell_type": "markdown",
   "id": "af7f74b1",
   "metadata": {},
   "source": [
    "### Information from neighboring rows indicates that Katie Alexander is currently married to  Geoffrey Alexander, as they share the same last name and live together, while his status is currently set to married. So her Marital status would be filled as Married"
   ]
  },
  {
   "cell_type": "code",
   "execution_count": 30,
   "id": "6ea4a279",
   "metadata": {},
   "outputs": [],
   "source": [
    "# filling the missing status as married\n",
    "data['Marital Status'] = data['Marital Status'].replace(\" \", \"Married\")"
   ]
  },
  {
   "cell_type": "code",
   "execution_count": 31,
   "id": "4be4f5cb",
   "metadata": {},
   "outputs": [
    {
     "data": {
      "text/plain": [
       "Single        3738\n",
       "Married       2672\n",
       "Ineligible    2484\n",
       "Divorced       871\n",
       "Widowed        352\n",
       "Name: Marital Status, dtype: int64"
      ]
     },
     "execution_count": 31,
     "metadata": {},
     "output_type": "execute_result"
    }
   ],
   "source": [
    "#confirming clean marital status column\n",
    "data[\"Marital Status\"].value_counts()"
   ]
  },
  {
   "cell_type": "markdown",
   "id": "aeb8ffdd",
   "metadata": {},
   "source": [
    "# Cleaning the Infirmity column"
   ]
  },
  {
   "cell_type": "code",
   "execution_count": 32,
   "id": "c0870ba0",
   "metadata": {},
   "outputs": [
    {
     "data": {
      "text/plain": [
       "None                   10033\n",
       "Physical Disability       19\n",
       "Blind                     15\n",
       "Deaf                      13\n",
       "Disabled                  10\n",
       "                          10\n",
       "Unknown Infection         10\n",
       "Mental Disability          7\n",
       "Name: Infirmity, dtype: int64"
      ]
     },
     "execution_count": 32,
     "metadata": {},
     "output_type": "execute_result"
    }
   ],
   "source": [
    "# Examining the different values in the column\n",
    "data[\"Infirmity\"].value_counts()"
   ]
  },
  {
   "cell_type": "code",
   "execution_count": 33,
   "id": "708cb860",
   "metadata": {},
   "outputs": [
    {
     "data": {
      "text/html": [
       "<div>\n",
       "<style scoped>\n",
       "    .dataframe tbody tr th:only-of-type {\n",
       "        vertical-align: middle;\n",
       "    }\n",
       "\n",
       "    .dataframe tbody tr th {\n",
       "        vertical-align: top;\n",
       "    }\n",
       "\n",
       "    .dataframe thead th {\n",
       "        text-align: right;\n",
       "    }\n",
       "</style>\n",
       "<table border=\"1\" class=\"dataframe\">\n",
       "  <thead>\n",
       "    <tr style=\"text-align: right;\">\n",
       "      <th></th>\n",
       "      <th>House Number</th>\n",
       "      <th>Street</th>\n",
       "      <th>First Name</th>\n",
       "      <th>Surname</th>\n",
       "      <th>Age</th>\n",
       "      <th>Relationship to Head of House</th>\n",
       "      <th>Marital Status</th>\n",
       "      <th>Gender</th>\n",
       "      <th>Occupation</th>\n",
       "      <th>Infirmity</th>\n",
       "      <th>Religion</th>\n",
       "    </tr>\n",
       "  </thead>\n",
       "  <tbody>\n",
       "    <tr>\n",
       "      <th>502</th>\n",
       "      <td>29</td>\n",
       "      <td>Kraken Drive</td>\n",
       "      <td>Emily</td>\n",
       "      <td>Coates</td>\n",
       "      <td>0</td>\n",
       "      <td>Daughter</td>\n",
       "      <td>Ineligible</td>\n",
       "      <td>Female</td>\n",
       "      <td>Child</td>\n",
       "      <td></td>\n",
       "      <td>Not Available</td>\n",
       "    </tr>\n",
       "    <tr>\n",
       "      <th>1046</th>\n",
       "      <td>39</td>\n",
       "      <td>Blake Villages</td>\n",
       "      <td>Donald</td>\n",
       "      <td>Miller</td>\n",
       "      <td>43</td>\n",
       "      <td>Husband</td>\n",
       "      <td>Married</td>\n",
       "      <td>Male</td>\n",
       "      <td>Administrator, local government</td>\n",
       "      <td></td>\n",
       "      <td>None</td>\n",
       "    </tr>\n",
       "    <tr>\n",
       "      <th>1641</th>\n",
       "      <td>18</td>\n",
       "      <td>O'Connor Crescent</td>\n",
       "      <td>Nicola</td>\n",
       "      <td>Clark</td>\n",
       "      <td>40</td>\n",
       "      <td>Head</td>\n",
       "      <td>Married</td>\n",
       "      <td>Female</td>\n",
       "      <td>Lecturer, further education</td>\n",
       "      <td></td>\n",
       "      <td>None</td>\n",
       "    </tr>\n",
       "    <tr>\n",
       "      <th>2179</th>\n",
       "      <td>56</td>\n",
       "      <td>Summer Viaduct</td>\n",
       "      <td>Mathew</td>\n",
       "      <td>French</td>\n",
       "      <td>32</td>\n",
       "      <td>Head</td>\n",
       "      <td>Married</td>\n",
       "      <td>Male</td>\n",
       "      <td>Mechanical engineer</td>\n",
       "      <td></td>\n",
       "      <td>None</td>\n",
       "    </tr>\n",
       "    <tr>\n",
       "      <th>2453</th>\n",
       "      <td>20</td>\n",
       "      <td>Crown Branch</td>\n",
       "      <td>Lynn</td>\n",
       "      <td>Morgan</td>\n",
       "      <td>3</td>\n",
       "      <td>Daughter</td>\n",
       "      <td>Ineligible</td>\n",
       "      <td>Female</td>\n",
       "      <td>Child</td>\n",
       "      <td></td>\n",
       "      <td>Not Available</td>\n",
       "    </tr>\n",
       "    <tr>\n",
       "      <th>3249</th>\n",
       "      <td>6</td>\n",
       "      <td>Davey Underpass</td>\n",
       "      <td>Molly</td>\n",
       "      <td>Ward-Jones</td>\n",
       "      <td>6</td>\n",
       "      <td>Daughter</td>\n",
       "      <td>Ineligible</td>\n",
       "      <td>Female</td>\n",
       "      <td>Student</td>\n",
       "      <td></td>\n",
       "      <td>Not Available</td>\n",
       "    </tr>\n",
       "    <tr>\n",
       "      <th>4802</th>\n",
       "      <td>25</td>\n",
       "      <td>Rose Street</td>\n",
       "      <td>Rachael</td>\n",
       "      <td>Lewis</td>\n",
       "      <td>46</td>\n",
       "      <td>Wife</td>\n",
       "      <td>Married</td>\n",
       "      <td>Female</td>\n",
       "      <td>Marketing executive</td>\n",
       "      <td></td>\n",
       "      <td>None</td>\n",
       "    </tr>\n",
       "    <tr>\n",
       "      <th>5418</th>\n",
       "      <td>76</td>\n",
       "      <td>Atkins Road</td>\n",
       "      <td>Pauline</td>\n",
       "      <td>Stone</td>\n",
       "      <td>46</td>\n",
       "      <td>Cousin</td>\n",
       "      <td>Single</td>\n",
       "      <td>Female</td>\n",
       "      <td>Electrical engineer</td>\n",
       "      <td></td>\n",
       "      <td>Christian</td>\n",
       "    </tr>\n",
       "    <tr>\n",
       "      <th>5900</th>\n",
       "      <td>156</td>\n",
       "      <td>Atkins Road</td>\n",
       "      <td>Liam</td>\n",
       "      <td>Roberts</td>\n",
       "      <td>21</td>\n",
       "      <td>Son</td>\n",
       "      <td>Single</td>\n",
       "      <td>Male</td>\n",
       "      <td>University Student</td>\n",
       "      <td></td>\n",
       "      <td>None</td>\n",
       "    </tr>\n",
       "    <tr>\n",
       "      <th>9348</th>\n",
       "      <td>98</td>\n",
       "      <td>Iron Crescent</td>\n",
       "      <td>Ann</td>\n",
       "      <td>Walker</td>\n",
       "      <td>65</td>\n",
       "      <td>Head</td>\n",
       "      <td>Widowed</td>\n",
       "      <td>Female</td>\n",
       "      <td>Designer, multimedia</td>\n",
       "      <td></td>\n",
       "      <td>None</td>\n",
       "    </tr>\n",
       "  </tbody>\n",
       "</table>\n",
       "</div>"
      ],
      "text/plain": [
       "      House Number             Street First Name     Surname  Age  \\\n",
       "502             29       Kraken Drive      Emily      Coates    0   \n",
       "1046            39     Blake Villages     Donald      Miller   43   \n",
       "1641            18  O'Connor Crescent     Nicola       Clark   40   \n",
       "2179            56     Summer Viaduct     Mathew      French   32   \n",
       "2453            20       Crown Branch       Lynn      Morgan    3   \n",
       "3249             6    Davey Underpass      Molly  Ward-Jones    6   \n",
       "4802            25        Rose Street    Rachael       Lewis   46   \n",
       "5418            76        Atkins Road    Pauline       Stone   46   \n",
       "5900           156        Atkins Road       Liam     Roberts   21   \n",
       "9348            98      Iron Crescent        Ann      Walker   65   \n",
       "\n",
       "     Relationship to Head of House Marital Status  Gender  \\\n",
       "502                       Daughter     Ineligible  Female   \n",
       "1046                       Husband        Married    Male   \n",
       "1641                          Head        Married  Female   \n",
       "2179                          Head        Married    Male   \n",
       "2453                      Daughter     Ineligible  Female   \n",
       "3249                      Daughter     Ineligible  Female   \n",
       "4802                          Wife        Married  Female   \n",
       "5418                        Cousin         Single  Female   \n",
       "5900                           Son         Single    Male   \n",
       "9348                          Head        Widowed  Female   \n",
       "\n",
       "                           Occupation Infirmity       Religion  \n",
       "502                             Child            Not Available  \n",
       "1046  Administrator, local government                     None  \n",
       "1641      Lecturer, further education                     None  \n",
       "2179              Mechanical engineer                     None  \n",
       "2453                            Child            Not Available  \n",
       "3249                          Student            Not Available  \n",
       "4802              Marketing executive                     None  \n",
       "5418              Electrical engineer                Christian  \n",
       "5900               University Student                     None  \n",
       "9348             Designer, multimedia                     None  "
      ]
     },
     "execution_count": 33,
     "metadata": {},
     "output_type": "execute_result"
    }
   ],
   "source": [
    "#locating the blank values\n",
    "data.loc[data[\"Infirmity\"] == \" \"]"
   ]
  },
  {
   "cell_type": "markdown",
   "id": "fc847294",
   "metadata": {},
   "source": [
    "### The blank values indicates that the respondent has an infirmity but did not specify what, so these values would be changed to unknown infirmity. the Values for disabled would also be changed to unknown disablity"
   ]
  },
  {
   "cell_type": "code",
   "execution_count": 34,
   "id": "39ee7b64",
   "metadata": {},
   "outputs": [],
   "source": [
    "#filling blank values\n",
    "data['Infirmity'] = data['Infirmity'].replace(\" \", \"Unknown Infirmity\")\n",
    "data['Infirmity'] = data['Infirmity'].replace(\"Disabled\", \"Unknown Disability\")"
   ]
  },
  {
   "cell_type": "code",
   "execution_count": 35,
   "id": "b4f7b608",
   "metadata": {},
   "outputs": [
    {
     "data": {
      "text/plain": [
       "None                   10033\n",
       "Physical Disability       19\n",
       "Blind                     15\n",
       "Deaf                      13\n",
       "Unknown Disability        10\n",
       "Unknown Infirmity         10\n",
       "Unknown Infection         10\n",
       "Mental Disability          7\n",
       "Name: Infirmity, dtype: int64"
      ]
     },
     "execution_count": 35,
     "metadata": {},
     "output_type": "execute_result"
    }
   ],
   "source": [
    "# confirming clean infirmity column\n",
    "data[\"Infirmity\"].value_counts()"
   ]
  },
  {
   "cell_type": "markdown",
   "id": "e302bc34",
   "metadata": {},
   "source": [
    "# Cleaning the Occupation Column"
   ]
  },
  {
   "cell_type": "code",
   "execution_count": 36,
   "id": "8e5b0f8c",
   "metadata": {},
   "outputs": [
    {
     "data": {
      "text/plain": [
       "Student                                 2013\n",
       "University Student                       669\n",
       "Unemployed                               615\n",
       "Child                                    596\n",
       "PhD Student                               27\n",
       "                                        ... \n",
       "Retired Hospital pharmacist                1\n",
       "Retired Designer, industrial/product       1\n",
       "Retired Copy                               1\n",
       "Retired Financial controller               1\n",
       "Retired Conservator, furniture             1\n",
       "Name: Occupation, Length: 1100, dtype: int64"
      ]
     },
     "execution_count": 36,
     "metadata": {},
     "output_type": "execute_result"
    }
   ],
   "source": [
    "# Checking for unique values in the Occupation column\n",
    "data[\"Occupation\"].value_counts()"
   ]
  },
  {
   "cell_type": "code",
   "execution_count": 37,
   "id": "558b83e2",
   "metadata": {},
   "outputs": [
    {
     "data": {
      "text/html": [
       "<div>\n",
       "<style scoped>\n",
       "    .dataframe tbody tr th:only-of-type {\n",
       "        vertical-align: middle;\n",
       "    }\n",
       "\n",
       "    .dataframe tbody tr th {\n",
       "        vertical-align: top;\n",
       "    }\n",
       "\n",
       "    .dataframe thead th {\n",
       "        text-align: right;\n",
       "    }\n",
       "</style>\n",
       "<table border=\"1\" class=\"dataframe\">\n",
       "  <thead>\n",
       "    <tr style=\"text-align: right;\">\n",
       "      <th></th>\n",
       "      <th>House Number</th>\n",
       "      <th>Street</th>\n",
       "      <th>First Name</th>\n",
       "      <th>Surname</th>\n",
       "      <th>Age</th>\n",
       "      <th>Relationship to Head of House</th>\n",
       "      <th>Marital Status</th>\n",
       "      <th>Gender</th>\n",
       "      <th>Occupation</th>\n",
       "      <th>Infirmity</th>\n",
       "      <th>Religion</th>\n",
       "    </tr>\n",
       "  </thead>\n",
       "  <tbody>\n",
       "  </tbody>\n",
       "</table>\n",
       "</div>"
      ],
      "text/plain": [
       "Empty DataFrame\n",
       "Columns: [House Number, Street, First Name, Surname, Age, Relationship to Head of House, Marital Status, Gender, Occupation, Infirmity, Religion]\n",
       "Index: []"
      ]
     },
     "execution_count": 37,
     "metadata": {},
     "output_type": "execute_result"
    }
   ],
   "source": [
    "# Checking for blank values in the occupation column\n",
    "data.loc[data[\"Occupation\"] == \" \"]"
   ]
  },
  {
   "cell_type": "markdown",
   "id": "16901eee",
   "metadata": {},
   "source": [
    "### There doesn't seem to be anything wrong with the Occupation column. Further analysis and groupings would be done on a subdataset later on when analyzing employment trends"
   ]
  },
  {
   "cell_type": "markdown",
   "id": "4d0039c1",
   "metadata": {},
   "source": [
    "# Cleaning the Relationship to head of house column"
   ]
  },
  {
   "cell_type": "code",
   "execution_count": 38,
   "id": "b8a348d7",
   "metadata": {},
   "outputs": [
    {
     "data": {
      "text/plain": [
       "Head                3158\n",
       "Son                 1804\n",
       "Daughter            1789\n",
       "Husband             1007\n",
       "None                 763\n",
       "Lodger               538\n",
       "Wife                 322\n",
       "Partner              296\n",
       "Granddaughter        100\n",
       "Grandson              97\n",
       "Sibling               71\n",
       "Cousin                40\n",
       "Visitor               34\n",
       "Step-Son              21\n",
       "Adopted Son           20\n",
       "Adopted Daughter      20\n",
       "Step-Daughter         18\n",
       "Neice                  9\n",
       "Nephew                 7\n",
       "                       2\n",
       "Adopted Grandson       1\n",
       "Name: Relationship to Head of House, dtype: int64"
      ]
     },
     "execution_count": 38,
     "metadata": {},
     "output_type": "execute_result"
    }
   ],
   "source": [
    "#checking all the unique values in the column\n",
    "data[\"Relationship to Head of House\"].value_counts()"
   ]
  },
  {
   "cell_type": "code",
   "execution_count": 39,
   "id": "914e824e",
   "metadata": {},
   "outputs": [
    {
     "data": {
      "text/html": [
       "<div>\n",
       "<style scoped>\n",
       "    .dataframe tbody tr th:only-of-type {\n",
       "        vertical-align: middle;\n",
       "    }\n",
       "\n",
       "    .dataframe tbody tr th {\n",
       "        vertical-align: top;\n",
       "    }\n",
       "\n",
       "    .dataframe thead th {\n",
       "        text-align: right;\n",
       "    }\n",
       "</style>\n",
       "<table border=\"1\" class=\"dataframe\">\n",
       "  <thead>\n",
       "    <tr style=\"text-align: right;\">\n",
       "      <th></th>\n",
       "      <th>House Number</th>\n",
       "      <th>Street</th>\n",
       "      <th>First Name</th>\n",
       "      <th>Surname</th>\n",
       "      <th>Age</th>\n",
       "      <th>Relationship to Head of House</th>\n",
       "      <th>Marital Status</th>\n",
       "      <th>Gender</th>\n",
       "      <th>Occupation</th>\n",
       "      <th>Infirmity</th>\n",
       "      <th>Religion</th>\n",
       "    </tr>\n",
       "  </thead>\n",
       "  <tbody>\n",
       "    <tr>\n",
       "      <th>6019</th>\n",
       "      <td>176</td>\n",
       "      <td>Atkins Road</td>\n",
       "      <td>Katie</td>\n",
       "      <td>Lewis-Jones</td>\n",
       "      <td>11</td>\n",
       "      <td></td>\n",
       "      <td>Ineligible</td>\n",
       "      <td>Female</td>\n",
       "      <td>Student</td>\n",
       "      <td>None</td>\n",
       "      <td>Not Available</td>\n",
       "    </tr>\n",
       "    <tr>\n",
       "      <th>6495</th>\n",
       "      <td>39</td>\n",
       "      <td>Wilson Throughway</td>\n",
       "      <td>Scott</td>\n",
       "      <td>Martin</td>\n",
       "      <td>40</td>\n",
       "      <td></td>\n",
       "      <td>Married</td>\n",
       "      <td>Male</td>\n",
       "      <td>Designer, television/film set</td>\n",
       "      <td>None</td>\n",
       "      <td>None</td>\n",
       "    </tr>\n",
       "  </tbody>\n",
       "</table>\n",
       "</div>"
      ],
      "text/plain": [
       "      House Number             Street First Name      Surname  Age  \\\n",
       "6019           176        Atkins Road      Katie  Lewis-Jones   11   \n",
       "6495            39  Wilson Throughway      Scott       Martin   40   \n",
       "\n",
       "     Relationship to Head of House Marital Status  Gender  \\\n",
       "6019                                   Ineligible  Female   \n",
       "6495                                      Married    Male   \n",
       "\n",
       "                         Occupation Infirmity       Religion  \n",
       "6019                        Student      None  Not Available  \n",
       "6495  Designer, television/film set      None           None  "
      ]
     },
     "execution_count": 39,
     "metadata": {},
     "output_type": "execute_result"
    }
   ],
   "source": [
    "# finding the blank values\n",
    "data.loc[data[\"Relationship to Head of House\"] == \" \"]"
   ]
  },
  {
   "cell_type": "code",
   "execution_count": 40,
   "id": "8c5f964f",
   "metadata": {},
   "outputs": [
    {
     "name": "stdout",
     "output_type": "stream",
     "text": [
      "      House Number       Street First Name      Surname  Age  \\\n",
      "6015           176  Atkins Road      Paige        Jones   56   \n",
      "6016           176  Atkins Road      Garry        Jones   57   \n",
      "6017           176  Atkins Road      Maria        Jones   16   \n",
      "6018           176  Atkins Road        Tom  Lewis-Jones   12   \n",
      "6019           176  Atkins Road      Katie  Lewis-Jones   11   \n",
      "6020           177  Atkins Road        Ben      Lambert   38   \n",
      "\n",
      "     Relationship to Head of House Marital Status  Gender  \\\n",
      "6015                          Head        Married  Female   \n",
      "6016                       Husband        Married    Male   \n",
      "6017                      Daughter     Ineligible  Female   \n",
      "6018                           Son     Ineligible    Male   \n",
      "6019                                   Ineligible  Female   \n",
      "6020                          Head         Single    Male   \n",
      "\n",
      "                        Occupation Infirmity       Religion  \n",
      "6015                Radio producer      None           None  \n",
      "6016                    Ergonomist      None           None  \n",
      "6017                       Student      None  Not Available  \n",
      "6018                       Student      None  Not Available  \n",
      "6019                       Student      None  Not Available  \n",
      "6020  Trade union research officer      None       Catholic  \n",
      "      House Number             Street First Name  Surname  Age  \\\n",
      "6492            38  Wilson Throughway     Gordon  Gardner   46   \n",
      "6493            38  Wilson Throughway     Nicole  Gardner   17   \n",
      "6494            39  Wilson Throughway      Carol   Martin   38   \n",
      "6495            39  Wilson Throughway      Scott   Martin   40   \n",
      "6496            39  Wilson Throughway     Pamela   Martin    5   \n",
      "\n",
      "     Relationship to Head of House Marital Status  Gender  \\\n",
      "6492                       Husband        Married    Male   \n",
      "6493                      Daughter     Ineligible  Female   \n",
      "6494                          Head        Married  Female   \n",
      "6495                                      Married    Male   \n",
      "6496                      Daughter     Ineligible  Female   \n",
      "\n",
      "                         Occupation Infirmity       Religion  \n",
      "6492           Sports administrator      None           None  \n",
      "6493                        Student      None  Not Available  \n",
      "6494                Producer, radio      None           None  \n",
      "6495  Designer, television/film set      None           None  \n",
      "6496                        Student      None  Not Available  \n"
     ]
    }
   ],
   "source": [
    "# locating neighboring rows\n",
    "print(data.iloc[6015:6021])\n",
    "print(data.iloc[6492:6497])"
   ]
  },
  {
   "cell_type": "markdown",
   "id": "8f8e9db0",
   "metadata": {},
   "source": [
    "### Inspection of neighboring rows indicate that Katie Lewis Jones is a female and the child of Paige and Garry Jones, so her value would be set to Daughter. Inspection of neighboring rows also indicate that Scot Martin is male and Married to Carol Martin living in the same address so his value would be changed to Husband"
   ]
  },
  {
   "cell_type": "code",
   "execution_count": 41,
   "id": "36254050",
   "metadata": {},
   "outputs": [],
   "source": [
    "# changing the relationship as analyzed\n",
    "data.loc[6019, 'Relationship to Head of House'] = 'Daughter'\n",
    "data.loc[6495, 'Relationship to Head of House'] = 'Husband'"
   ]
  },
  {
   "cell_type": "code",
   "execution_count": 42,
   "id": "95854917",
   "metadata": {},
   "outputs": [
    {
     "data": {
      "text/plain": [
       "Head                3158\n",
       "Son                 1804\n",
       "Daughter            1790\n",
       "Husband             1008\n",
       "None                 763\n",
       "Lodger               538\n",
       "Wife                 322\n",
       "Partner              296\n",
       "Granddaughter        100\n",
       "Grandson              97\n",
       "Sibling               71\n",
       "Cousin                40\n",
       "Visitor               34\n",
       "Step-Son              21\n",
       "Adopted Son           20\n",
       "Adopted Daughter      20\n",
       "Step-Daughter         18\n",
       "Neice                  9\n",
       "Nephew                 7\n",
       "Adopted Grandson       1\n",
       "Name: Relationship to Head of House, dtype: int64"
      ]
     },
     "execution_count": 42,
     "metadata": {},
     "output_type": "execute_result"
    }
   ],
   "source": [
    "# confirming column has been cleaned\n",
    "data[\"Relationship to Head of House\"].value_counts()"
   ]
  },
  {
   "cell_type": "markdown",
   "id": "e16be4c7",
   "metadata": {},
   "source": [
    "## Because of the occurence of blank values across various columns, it is important to also check the first four columns for the same occurence"
   ]
  },
  {
   "cell_type": "code",
   "execution_count": 43,
   "id": "f486c1b5",
   "metadata": {},
   "outputs": [
    {
     "data": {
      "text/html": [
       "<div>\n",
       "<style scoped>\n",
       "    .dataframe tbody tr th:only-of-type {\n",
       "        vertical-align: middle;\n",
       "    }\n",
       "\n",
       "    .dataframe tbody tr th {\n",
       "        vertical-align: top;\n",
       "    }\n",
       "\n",
       "    .dataframe thead th {\n",
       "        text-align: right;\n",
       "    }\n",
       "</style>\n",
       "<table border=\"1\" class=\"dataframe\">\n",
       "  <thead>\n",
       "    <tr style=\"text-align: right;\">\n",
       "      <th></th>\n",
       "      <th>House Number</th>\n",
       "      <th>Street</th>\n",
       "      <th>First Name</th>\n",
       "      <th>Surname</th>\n",
       "      <th>Age</th>\n",
       "      <th>Relationship to Head of House</th>\n",
       "      <th>Marital Status</th>\n",
       "      <th>Gender</th>\n",
       "      <th>Occupation</th>\n",
       "      <th>Infirmity</th>\n",
       "      <th>Religion</th>\n",
       "    </tr>\n",
       "  </thead>\n",
       "  <tbody>\n",
       "    <tr>\n",
       "      <th>1152</th>\n",
       "      <td>27</td>\n",
       "      <td>Whittaker Crescent</td>\n",
       "      <td>Harry</td>\n",
       "      <td></td>\n",
       "      <td>26</td>\n",
       "      <td>Husband</td>\n",
       "      <td>Married</td>\n",
       "      <td>Male</td>\n",
       "      <td>Charity officer</td>\n",
       "      <td>None</td>\n",
       "      <td>None</td>\n",
       "    </tr>\n",
       "    <tr>\n",
       "      <th>4251</th>\n",
       "      <td>12</td>\n",
       "      <td>Clementine Forest</td>\n",
       "      <td>Lesley</td>\n",
       "      <td></td>\n",
       "      <td>64</td>\n",
       "      <td>Wife</td>\n",
       "      <td>Married</td>\n",
       "      <td>Female</td>\n",
       "      <td>Forensic scientist</td>\n",
       "      <td>Deaf</td>\n",
       "      <td>Christian</td>\n",
       "    </tr>\n",
       "    <tr>\n",
       "      <th>8240</th>\n",
       "      <td>121</td>\n",
       "      <td>O'Connor Crossroad</td>\n",
       "      <td>Irene</td>\n",
       "      <td></td>\n",
       "      <td>75</td>\n",
       "      <td>Daughter</td>\n",
       "      <td>Divorced</td>\n",
       "      <td>Female</td>\n",
       "      <td>Retired Magazine journalist</td>\n",
       "      <td>None</td>\n",
       "      <td>None</td>\n",
       "    </tr>\n",
       "  </tbody>\n",
       "</table>\n",
       "</div>"
      ],
      "text/plain": [
       "      House Number              Street First Name Surname  Age  \\\n",
       "1152            27  Whittaker Crescent      Harry           26   \n",
       "4251            12   Clementine Forest     Lesley           64   \n",
       "8240           121  O'Connor Crossroad      Irene           75   \n",
       "\n",
       "     Relationship to Head of House Marital Status  Gender  \\\n",
       "1152                       Husband        Married    Male   \n",
       "4251                          Wife        Married  Female   \n",
       "8240                      Daughter       Divorced  Female   \n",
       "\n",
       "                       Occupation Infirmity   Religion  \n",
       "1152              Charity officer      None       None  \n",
       "4251           Forensic scientist      Deaf  Christian  \n",
       "8240  Retired Magazine journalist      None       None  "
      ]
     },
     "execution_count": 43,
     "metadata": {},
     "output_type": "execute_result"
    }
   ],
   "source": [
    "# checking the house number, street, first name and surname columns for blank values\n",
    "data.loc[(data['Surname'] == ' ') | (data['First Name'] == ' ') |\n",
    "         (data['Street'] == ' ') | (data['House Number'] == ' ')]"
   ]
  },
  {
   "cell_type": "markdown",
   "id": "1cb5c9f6",
   "metadata": {},
   "source": [
    "## Neighbouring cells would be examined to find relationships to fill the missing Surname values"
   ]
  },
  {
   "cell_type": "code",
   "execution_count": 44,
   "id": "baa17fec",
   "metadata": {},
   "outputs": [
    {
     "name": "stdout",
     "output_type": "stream",
     "text": [
      "      House Number              Street First Name     Surname  Age  \\\n",
      "1150            26  Whittaker Crescent    Richard     Vaughan   13   \n",
      "1151            27  Whittaker Crescent    Jessica       Clark   24   \n",
      "1152            27  Whittaker Crescent      Harry               26   \n",
      "1153            27  Whittaker Crescent     Damien  Khan-Clark    7   \n",
      "1154            28  Whittaker Crescent     Kieran     Leonard   70   \n",
      "\n",
      "     Relationship to Head of House Marital Status  Gender  \\\n",
      "1150                           Son     Ineligible    Male   \n",
      "1151                          Head        Married  Female   \n",
      "1152                       Husband        Married    Male   \n",
      "1153                           Son     Ineligible    Male   \n",
      "1154                          Head        Widowed    Male   \n",
      "\n",
      "                          Occupation Infirmity       Religion  \n",
      "1150                         Student      None  Not Available  \n",
      "1151                         Dentist      None           None  \n",
      "1152                 Charity officer      None           None  \n",
      "1153                         Student      None  Not Available  \n",
      "1154  Retired Engineer, aeronautical      None      Christian  \n",
      "      House Number             Street First Name Surname  Age  \\\n",
      "4249            11  Clementine Forest   Charlene   Myers   36   \n",
      "4250            12  Clementine Forest    Anthony    Hill   69   \n",
      "4251            12  Clementine Forest     Lesley           64   \n",
      "4252            12  Clementine Forest       Jake    Hill   38   \n",
      "\n",
      "     Relationship to Head of House Marital Status  Gender  \\\n",
      "4249                      Daughter         Single  Female   \n",
      "4250                          Head        Married    Male   \n",
      "4251                          Wife        Married  Female   \n",
      "4252                           Son         Single    Male   \n",
      "\n",
      "                      Occupation Infirmity   Religion  \n",
      "4249     Chartered loss adjuster      None  Methodist  \n",
      "4250  Retired Charity fundraiser      None  Christian  \n",
      "4251          Forensic scientist      Deaf  Christian  \n",
      "4252         Seismic interpreter      None       None  \n",
      "      House Number              Street First Name Surname  Age  \\\n",
      "8237           121  O'Connor Crossroad     Marion   Lewis  111   \n",
      "8238           121  O'Connor Crossroad     Jordan   Lewis  120   \n",
      "8239           121  O'Connor Crossroad     Elaine   Lewis   75   \n",
      "8240           121  O'Connor Crossroad      Irene           75   \n",
      "8241           121  O'Connor Crossroad       Leon   Lewis   72   \n",
      "8242           121  O'Connor Crossroad     Dennis   Lewis   69   \n",
      "8243           121  O'Connor Crossroad      Clare   Lewis   68   \n",
      "\n",
      "     Relationship to Head of House Marital Status  Gender  \\\n",
      "8237                          Head        Married  Female   \n",
      "8238                       Husband        Married    Male   \n",
      "8239                      Daughter        Widowed  Female   \n",
      "8240                      Daughter       Divorced  Female   \n",
      "8241                           Son        Widowed    Male   \n",
      "8242                           Son        Widowed    Male   \n",
      "8243                      Daughter       Divorced  Female   \n",
      "\n",
      "                                   Occupation Infirmity Religion  \n",
      "8237  Retired Geophysicist/field seismologist      None   Muslim  \n",
      "8238              Retired Early years teacher      None   Muslim  \n",
      "8239                  Retired Legal secretary      None   Muslim  \n",
      "8240              Retired Magazine journalist      None     None  \n",
      "8241            Retired Multimedia programmer      None   Muslim  \n",
      "8242                      Retired Fine artist      None     None  \n",
      "8243                     Retired Immunologist      None     None  \n"
     ]
    }
   ],
   "source": [
    "#checking neighboring rows of the missing surname cells\n",
    "print(data.iloc[1150:1155])\n",
    "print(data.iloc[4249:4253])\n",
    "print(data.iloc[8236:8243])"
   ]
  },
  {
   "cell_type": "markdown",
   "id": "87acdc81",
   "metadata": {},
   "source": [
    "### Harry is Married to Jessica Clark, with  a son Damien Khan-Clark, so it is deduced his Surname is Clark. Lesley is Married to Anthony Hill with a son Jake Hill, so it is deduced that her surname is Hill. Irene is the daughter of Jordan and Marion Lewis, while her marital status is set to Divorced, there is the possibility that had taken up another name, but her surname is set to her maiden name Lewis regardless as this does not influence any of the analysis in any way."
   ]
  },
  {
   "cell_type": "code",
   "execution_count": 45,
   "id": "fb33bef6",
   "metadata": {},
   "outputs": [],
   "source": [
    "# Assigning appropriate surname values\n",
    "data.loc[1152, 'Surname'] = 'Clark'\n",
    "data.loc[4251, 'Surname'] = 'Hill'\n",
    "data.loc[8240, 'Surname'] = 'Lewis'"
   ]
  },
  {
   "cell_type": "code",
   "execution_count": 46,
   "id": "5080b17e",
   "metadata": {},
   "outputs": [
    {
     "data": {
      "text/html": [
       "<div>\n",
       "<style scoped>\n",
       "    .dataframe tbody tr th:only-of-type {\n",
       "        vertical-align: middle;\n",
       "    }\n",
       "\n",
       "    .dataframe tbody tr th {\n",
       "        vertical-align: top;\n",
       "    }\n",
       "\n",
       "    .dataframe thead th {\n",
       "        text-align: right;\n",
       "    }\n",
       "</style>\n",
       "<table border=\"1\" class=\"dataframe\">\n",
       "  <thead>\n",
       "    <tr style=\"text-align: right;\">\n",
       "      <th></th>\n",
       "      <th>House Number</th>\n",
       "      <th>Street</th>\n",
       "      <th>First Name</th>\n",
       "      <th>Surname</th>\n",
       "      <th>Age</th>\n",
       "      <th>Relationship to Head of House</th>\n",
       "      <th>Marital Status</th>\n",
       "      <th>Gender</th>\n",
       "      <th>Occupation</th>\n",
       "      <th>Infirmity</th>\n",
       "      <th>Religion</th>\n",
       "    </tr>\n",
       "  </thead>\n",
       "  <tbody>\n",
       "  </tbody>\n",
       "</table>\n",
       "</div>"
      ],
      "text/plain": [
       "Empty DataFrame\n",
       "Columns: [House Number, Street, First Name, Surname, Age, Relationship to Head of House, Marital Status, Gender, Occupation, Infirmity, Religion]\n",
       "Index: []"
      ]
     },
     "execution_count": 46,
     "metadata": {},
     "output_type": "execute_result"
    }
   ],
   "source": [
    "# confirming blank values have been corrected\n",
    "data.loc[(data['Surname'] == ' ') | (data['First Name'] == ' ') |\n",
    "         (data['Street'] == ' ') | (data['House Number'] == ' ')]"
   ]
  },
  {
   "cell_type": "markdown",
   "id": "cb1263d3",
   "metadata": {},
   "source": [
    "# DATA ANALYSIS"
   ]
  },
  {
   "cell_type": "markdown",
   "id": "4ef7c6c7",
   "metadata": {},
   "source": [
    "## Examining the age distribution (age pyramid) of the population, to determine if it is growing or shrinking? also to find out if there will there be more retired aged people in the future, more school-aged children, more young people, etc"
   ]
  },
  {
   "cell_type": "markdown",
   "id": "4f49aa9b",
   "metadata": {},
   "source": [
    "### An additional column called Age Range would be created to group people of the same 5 year age band in to one category"
   ]
  },
  {
   "cell_type": "code",
   "execution_count": 47,
   "id": "0803808f",
   "metadata": {},
   "outputs": [
    {
     "data": {
      "text/html": [
       "<div>\n",
       "<style scoped>\n",
       "    .dataframe tbody tr th:only-of-type {\n",
       "        vertical-align: middle;\n",
       "    }\n",
       "\n",
       "    .dataframe tbody tr th {\n",
       "        vertical-align: top;\n",
       "    }\n",
       "\n",
       "    .dataframe thead th {\n",
       "        text-align: right;\n",
       "    }\n",
       "</style>\n",
       "<table border=\"1\" class=\"dataframe\">\n",
       "  <thead>\n",
       "    <tr style=\"text-align: right;\">\n",
       "      <th></th>\n",
       "      <th>House Number</th>\n",
       "      <th>Street</th>\n",
       "      <th>First Name</th>\n",
       "      <th>Surname</th>\n",
       "      <th>Age</th>\n",
       "      <th>Relationship to Head of House</th>\n",
       "      <th>Marital Status</th>\n",
       "      <th>Gender</th>\n",
       "      <th>Occupation</th>\n",
       "      <th>Infirmity</th>\n",
       "      <th>Religion</th>\n",
       "      <th>Age Range</th>\n",
       "    </tr>\n",
       "  </thead>\n",
       "  <tbody>\n",
       "    <tr>\n",
       "      <th>0</th>\n",
       "      <td>1</td>\n",
       "      <td>Kaur Drive</td>\n",
       "      <td>Douglas</td>\n",
       "      <td>Adams</td>\n",
       "      <td>77</td>\n",
       "      <td>Head</td>\n",
       "      <td>Widowed</td>\n",
       "      <td>Male</td>\n",
       "      <td>Retired Museum education officer</td>\n",
       "      <td>None</td>\n",
       "      <td>Christian</td>\n",
       "      <td>75-79</td>\n",
       "    </tr>\n",
       "    <tr>\n",
       "      <th>1</th>\n",
       "      <td>2</td>\n",
       "      <td>Kaur Drive</td>\n",
       "      <td>Hollie</td>\n",
       "      <td>West</td>\n",
       "      <td>79</td>\n",
       "      <td>Head</td>\n",
       "      <td>Single</td>\n",
       "      <td>Female</td>\n",
       "      <td>Retired Dealer</td>\n",
       "      <td>None</td>\n",
       "      <td>Christian</td>\n",
       "      <td>75-79</td>\n",
       "    </tr>\n",
       "    <tr>\n",
       "      <th>2</th>\n",
       "      <td>3</td>\n",
       "      <td>Kaur Drive</td>\n",
       "      <td>Joseph</td>\n",
       "      <td>Hall</td>\n",
       "      <td>55</td>\n",
       "      <td>Head</td>\n",
       "      <td>Single</td>\n",
       "      <td>Male</td>\n",
       "      <td>Fast food restaurant manager</td>\n",
       "      <td>None</td>\n",
       "      <td>Christian</td>\n",
       "      <td>55-59</td>\n",
       "    </tr>\n",
       "    <tr>\n",
       "      <th>3</th>\n",
       "      <td>4</td>\n",
       "      <td>Kaur Drive</td>\n",
       "      <td>Gregory</td>\n",
       "      <td>Cox</td>\n",
       "      <td>35</td>\n",
       "      <td>Head</td>\n",
       "      <td>Single</td>\n",
       "      <td>Male</td>\n",
       "      <td>Housing manager/officer</td>\n",
       "      <td>None</td>\n",
       "      <td>None</td>\n",
       "      <td>35-39</td>\n",
       "    </tr>\n",
       "    <tr>\n",
       "      <th>4</th>\n",
       "      <td>5</td>\n",
       "      <td>Kaur Drive</td>\n",
       "      <td>Lydia</td>\n",
       "      <td>Jones</td>\n",
       "      <td>42</td>\n",
       "      <td>Head</td>\n",
       "      <td>Single</td>\n",
       "      <td>Female</td>\n",
       "      <td>Unemployed</td>\n",
       "      <td>None</td>\n",
       "      <td>Catholic</td>\n",
       "      <td>40-44</td>\n",
       "    </tr>\n",
       "  </tbody>\n",
       "</table>\n",
       "</div>"
      ],
      "text/plain": [
       "   House Number      Street First Name Surname  Age  \\\n",
       "0             1  Kaur Drive    Douglas   Adams   77   \n",
       "1             2  Kaur Drive     Hollie    West   79   \n",
       "2             3  Kaur Drive     Joseph    Hall   55   \n",
       "3             4  Kaur Drive    Gregory     Cox   35   \n",
       "4             5  Kaur Drive      Lydia   Jones   42   \n",
       "\n",
       "  Relationship to Head of House Marital Status  Gender  \\\n",
       "0                          Head        Widowed    Male   \n",
       "1                          Head         Single  Female   \n",
       "2                          Head         Single    Male   \n",
       "3                          Head         Single    Male   \n",
       "4                          Head         Single  Female   \n",
       "\n",
       "                         Occupation Infirmity   Religion Age Range  \n",
       "0  Retired Museum education officer      None  Christian     75-79  \n",
       "1                    Retired Dealer      None  Christian     75-79  \n",
       "2      Fast food restaurant manager      None  Christian     55-59  \n",
       "3           Housing manager/officer      None       None     35-39  \n",
       "4                        Unemployed      None   Catholic     40-44  "
      ]
     },
     "execution_count": 47,
     "metadata": {},
     "output_type": "execute_result"
    }
   ],
   "source": [
    "# Creating the Age Range band\n",
    "bins = [-1, 4, 9, 14, 19, 24, 29, 34, 39, 44, 49, 54, 59, 64, 69, 74, 79, 84, 89, 94, 104, 109, 110, np.inf]\n",
    "names = ['0-4', '5-9','10-14', '15-19', '20-24', '25-29', '30-34', '35-39', '40-44', '45-49', '50-54', '55-59', \"60-64\", '65-69', '70-74', '75-79', '80-84', '85-89', '90-94', '95-99','100-104', '105-109', '110+' ]\n",
    "\n",
    "data['Age Range'] = pd.cut(data['Age'], bins, labels=names)\n",
    "data.head()\n",
    "# Josh (2015)"
   ]
  },
  {
   "cell_type": "code",
   "execution_count": 48,
   "id": "4bffcfaa",
   "metadata": {},
   "outputs": [
    {
     "data": {
      "text/html": [
       "<div>\n",
       "<style scoped>\n",
       "    .dataframe tbody tr th:only-of-type {\n",
       "        vertical-align: middle;\n",
       "    }\n",
       "\n",
       "    .dataframe tbody tr th {\n",
       "        vertical-align: top;\n",
       "    }\n",
       "\n",
       "    .dataframe thead th {\n",
       "        text-align: right;\n",
       "    }\n",
       "</style>\n",
       "<table border=\"1\" class=\"dataframe\">\n",
       "  <thead>\n",
       "    <tr style=\"text-align: right;\">\n",
       "      <th></th>\n",
       "      <th>Age Range</th>\n",
       "      <th>Gender</th>\n",
       "      <th>count</th>\n",
       "    </tr>\n",
       "  </thead>\n",
       "  <tbody>\n",
       "    <tr>\n",
       "      <th>0</th>\n",
       "      <td>0-4</td>\n",
       "      <td>Female</td>\n",
       "      <td>273</td>\n",
       "    </tr>\n",
       "    <tr>\n",
       "      <th>1</th>\n",
       "      <td>0-4</td>\n",
       "      <td>Male</td>\n",
       "      <td>-323</td>\n",
       "    </tr>\n",
       "    <tr>\n",
       "      <th>2</th>\n",
       "      <td>5-9</td>\n",
       "      <td>Female</td>\n",
       "      <td>372</td>\n",
       "    </tr>\n",
       "    <tr>\n",
       "      <th>3</th>\n",
       "      <td>5-9</td>\n",
       "      <td>Male</td>\n",
       "      <td>-374</td>\n",
       "    </tr>\n",
       "    <tr>\n",
       "      <th>4</th>\n",
       "      <td>10-14</td>\n",
       "      <td>Female</td>\n",
       "      <td>356</td>\n",
       "    </tr>\n",
       "  </tbody>\n",
       "</table>\n",
       "</div>"
      ],
      "text/plain": [
       "  Age Range  Gender  count\n",
       "0       0-4  Female    273\n",
       "1       0-4    Male   -323\n",
       "2       5-9  Female    372\n",
       "3       5-9    Male   -374\n",
       "4     10-14  Female    356"
      ]
     },
     "execution_count": 48,
     "metadata": {},
     "output_type": "execute_result"
    }
   ],
   "source": [
    "# Grouping them together\n",
    "grouped = data.groupby(['Age Range', 'Gender']).size().reset_index(name='count')\n",
    "grouped.loc[grouped['Gender'] == 'Male', 'count'] = grouped.loc[grouped['Gender'] == 'Male', 'count'].apply(lambda x: x*-1)\n",
    "grouped.head()\n"
   ]
  },
  {
   "cell_type": "markdown",
   "id": "8c8188e9",
   "metadata": {},
   "source": [
    "### Plotting the Age Pyramid with, male and female Genders on opposite sides. The census data does not make provision for other genders and this would be discussed in the limitations section of the report"
   ]
  },
  {
   "cell_type": "code",
   "execution_count": 49,
   "id": "e032b0e5",
   "metadata": {},
   "outputs": [
    {
     "data": {
      "image/png": "[encoded data removed]",
      "text/plain": [
       "<Figure size 640x480 with 1 Axes>"
      ]
     },
     "metadata": {},
     "output_type": "display_data"
    }
   ],
   "source": [
    "# plotting the age pyramid \n",
    "# Mariano (2020)\n",
    "# modified using the matplotlib and seaborn documentation\n",
    "pyramid = sns.barplot(data=grouped, x='count', y='Age Range', hue='Gender', dodge=False, palette='husl')\n",
    "pyramid.invert_yaxis()\n",
    "for bar in pyramid.containers:\n",
    "    for value in bar:\n",
    "        pyramid.text(value.get_width()/2 + value.get_x(), value.get_y()+value.get_height()/2, abs(int(value.get_width())), \n",
    "                     ha=\"center\", va=\"center\", color=\"white\", fontsize=8)\n",
    "pyramid.legend(title='Gender')\n",
    "pyramid.xaxis.set_major_formatter(mtick.FuncFormatter(lambda x, pos: '{:.0f}'.format(abs(x))))\n",
    "plt.xlabel('Population')\n",
    "plt.ylabel('Age Range')\n",
    "plt.title('Age Pyramid by Gender')\n",
    "pyramid.get_figure().savefig(\"pyramid.png\")"
   ]
  },
  {
   "cell_type": "code",
   "execution_count": 50,
   "id": "33abefe0",
   "metadata": {},
   "outputs": [
    {
     "data": {
      "text/plain": [
       "Female    5269\n",
       "Male      4848\n",
       "Name: Gender, dtype: int64"
      ]
     },
     "execution_count": 50,
     "metadata": {},
     "output_type": "execute_result"
    }
   ],
   "source": [
    "#Gender population\n",
    "data[\"Gender\"].value_counts()"
   ]
  },
  {
   "cell_type": "markdown",
   "id": "51d43ad9",
   "metadata": {},
   "source": [
    "### Early Insights from Age Pyramid analysis\n",
    "Insights indicates a shrinking population as the pyramid shrinks significantly at the top indicating fast decrease in older age groups whuch could be as a result of migration of people after retirement.\n",
    "The population of females is slightly higher than males.\n",
    "School aged children would slighlty decrease in the near future as the count for ages below 15 is relatively lower.\n",
    "If migration is minimal there will be shift towards an older population with decreasing birth rates in the future "
   ]
  },
  {
   "cell_type": "markdown",
   "id": "6f60c2a4",
   "metadata": {},
   "source": [
    "# Examining unemployment trends, to determine if certain ages more likely to be unemployed than others"
   ]
  },
  {
   "cell_type": "code",
   "execution_count": 51,
   "id": "6da984b6",
   "metadata": {},
   "outputs": [
    {
     "data": {
      "text/plain": [
       "Student                                 2013\n",
       "University Student                       669\n",
       "Unemployed                               615\n",
       "Child                                    596\n",
       "PhD Student                               27\n",
       "                                        ... \n",
       "Retired Hospital pharmacist                1\n",
       "Retired Designer, industrial/product       1\n",
       "Retired Copy                               1\n",
       "Retired Financial controller               1\n",
       "Retired Conservator, furniture             1\n",
       "Name: Occupation, Length: 1100, dtype: int64"
      ]
     },
     "execution_count": 51,
     "metadata": {},
     "output_type": "execute_result"
    }
   ],
   "source": [
    "# Examining the different values in the Occupation column\n",
    "data['Occupation'].value_counts()"
   ]
  },
  {
   "cell_type": "markdown",
   "id": "4da2cb2c",
   "metadata": {},
   "source": [
    "### Creating a subdatabase to examine unemployment trend is ideal as occupations would need to be grouped together as employed, retirees to retired and all classes of students as students"
   ]
  },
  {
   "cell_type": "code",
   "execution_count": 52,
   "id": "a17e1555",
   "metadata": {},
   "outputs": [
    {
     "data": {
      "text/html": [
       "<div>\n",
       "<style scoped>\n",
       "    .dataframe tbody tr th:only-of-type {\n",
       "        vertical-align: middle;\n",
       "    }\n",
       "\n",
       "    .dataframe tbody tr th {\n",
       "        vertical-align: top;\n",
       "    }\n",
       "\n",
       "    .dataframe thead th {\n",
       "        text-align: right;\n",
       "    }\n",
       "</style>\n",
       "<table border=\"1\" class=\"dataframe\">\n",
       "  <thead>\n",
       "    <tr style=\"text-align: right;\">\n",
       "      <th></th>\n",
       "      <th>Age</th>\n",
       "      <th>Occupation</th>\n",
       "      <th>Gender</th>\n",
       "    </tr>\n",
       "  </thead>\n",
       "  <tbody>\n",
       "    <tr>\n",
       "      <th>0</th>\n",
       "      <td>77</td>\n",
       "      <td>Retired Museum education officer</td>\n",
       "      <td>Male</td>\n",
       "    </tr>\n",
       "    <tr>\n",
       "      <th>1</th>\n",
       "      <td>79</td>\n",
       "      <td>Retired Dealer</td>\n",
       "      <td>Female</td>\n",
       "    </tr>\n",
       "    <tr>\n",
       "      <th>2</th>\n",
       "      <td>55</td>\n",
       "      <td>Fast food restaurant manager</td>\n",
       "      <td>Male</td>\n",
       "    </tr>\n",
       "    <tr>\n",
       "      <th>3</th>\n",
       "      <td>35</td>\n",
       "      <td>Housing manager/officer</td>\n",
       "      <td>Male</td>\n",
       "    </tr>\n",
       "    <tr>\n",
       "      <th>4</th>\n",
       "      <td>42</td>\n",
       "      <td>Unemployed</td>\n",
       "      <td>Female</td>\n",
       "    </tr>\n",
       "    <tr>\n",
       "      <th>...</th>\n",
       "      <td>...</td>\n",
       "      <td>...</td>\n",
       "      <td>...</td>\n",
       "    </tr>\n",
       "    <tr>\n",
       "      <th>10113</th>\n",
       "      <td>9</td>\n",
       "      <td>Student</td>\n",
       "      <td>Male</td>\n",
       "    </tr>\n",
       "    <tr>\n",
       "      <th>10114</th>\n",
       "      <td>6</td>\n",
       "      <td>Student</td>\n",
       "      <td>Female</td>\n",
       "    </tr>\n",
       "    <tr>\n",
       "      <th>10115</th>\n",
       "      <td>2</td>\n",
       "      <td>Child</td>\n",
       "      <td>Male</td>\n",
       "    </tr>\n",
       "    <tr>\n",
       "      <th>10116</th>\n",
       "      <td>51</td>\n",
       "      <td>Food technologist</td>\n",
       "      <td>Female</td>\n",
       "    </tr>\n",
       "    <tr>\n",
       "      <th>10117</th>\n",
       "      <td>47</td>\n",
       "      <td>Web designer</td>\n",
       "      <td>Female</td>\n",
       "    </tr>\n",
       "  </tbody>\n",
       "</table>\n",
       "<p>10117 rows × 3 columns</p>\n",
       "</div>"
      ],
      "text/plain": [
       "       Age                        Occupation  Gender\n",
       "0       77  Retired Museum education officer    Male\n",
       "1       79                    Retired Dealer  Female\n",
       "2       55      Fast food restaurant manager    Male\n",
       "3       35           Housing manager/officer    Male\n",
       "4       42                        Unemployed  Female\n",
       "...    ...                               ...     ...\n",
       "10113    9                           Student    Male\n",
       "10114    6                           Student  Female\n",
       "10115    2                             Child    Male\n",
       "10116   51                 Food technologist  Female\n",
       "10117   47                      Web designer  Female\n",
       "\n",
       "[10117 rows x 3 columns]"
      ]
     },
     "execution_count": 52,
     "metadata": {},
     "output_type": "execute_result"
    }
   ],
   "source": [
    "# Creating subdatabase\n",
    "unemployment = data[[\"Age\", \"Occupation\", \"Gender\"]]\n",
    "unemployment"
   ]
  },
  {
   "cell_type": "code",
   "execution_count": 53,
   "id": "9ca24c07",
   "metadata": {},
   "outputs": [
    {
     "data": {
      "text/plain": [
       "array(['Retired', 'Employed', 'Unemployed', 'Child', 'Student'],\n",
       "      dtype=object)"
      ]
     },
     "execution_count": 53,
     "metadata": {},
     "output_type": "execute_result"
    }
   ],
   "source": [
    "# Grouping the values together\n",
    "unemployment.loc[unemployment[\"Occupation\"].str.contains(\"Student\"), \"Occupation\"] = \"Student\"\n",
    "unemployment.loc[unemployment[\"Occupation\"].str.contains(\"Retired\"), \"Occupation\"] = \"Retired\"\n",
    "unemployment.loc[~unemployment['Occupation'].isin(['Student', 'Unemployed', 'Retired', \"Child\"]), 'Occupation'] = 'Employed'\n",
    "unemployment[\"Occupation\"].unique()\n",
    "# Galli (2018)\n"
   ]
  },
  {
   "cell_type": "markdown",
   "id": "7891d3b5",
   "metadata": {},
   "source": [
    "### Another age-group column would be created to categorize different age classes people in the labour age range (18-65), people in retirment age range (65+), and children below labour age range (below 18)"
   ]
  },
  {
   "cell_type": "code",
   "execution_count": 54,
   "id": "bc3c315a",
   "metadata": {},
   "outputs": [
    {
     "data": {
      "text/html": [
       "<div>\n",
       "<style scoped>\n",
       "    .dataframe tbody tr th:only-of-type {\n",
       "        vertical-align: middle;\n",
       "    }\n",
       "\n",
       "    .dataframe tbody tr th {\n",
       "        vertical-align: top;\n",
       "    }\n",
       "\n",
       "    .dataframe thead th {\n",
       "        text-align: right;\n",
       "    }\n",
       "</style>\n",
       "<table border=\"1\" class=\"dataframe\">\n",
       "  <thead>\n",
       "    <tr style=\"text-align: right;\">\n",
       "      <th></th>\n",
       "      <th>Age</th>\n",
       "      <th>Occupation</th>\n",
       "      <th>Gender</th>\n",
       "      <th>Employment Age Range</th>\n",
       "    </tr>\n",
       "  </thead>\n",
       "  <tbody>\n",
       "    <tr>\n",
       "      <th>0</th>\n",
       "      <td>77</td>\n",
       "      <td>Retired</td>\n",
       "      <td>Male</td>\n",
       "      <td>66+</td>\n",
       "    </tr>\n",
       "    <tr>\n",
       "      <th>1</th>\n",
       "      <td>79</td>\n",
       "      <td>Retired</td>\n",
       "      <td>Female</td>\n",
       "      <td>66+</td>\n",
       "    </tr>\n",
       "    <tr>\n",
       "      <th>2</th>\n",
       "      <td>55</td>\n",
       "      <td>Employed</td>\n",
       "      <td>Male</td>\n",
       "      <td>46-55</td>\n",
       "    </tr>\n",
       "    <tr>\n",
       "      <th>3</th>\n",
       "      <td>35</td>\n",
       "      <td>Employed</td>\n",
       "      <td>Male</td>\n",
       "      <td>26-35</td>\n",
       "    </tr>\n",
       "    <tr>\n",
       "      <th>4</th>\n",
       "      <td>42</td>\n",
       "      <td>Unemployed</td>\n",
       "      <td>Female</td>\n",
       "      <td>36-45</td>\n",
       "    </tr>\n",
       "    <tr>\n",
       "      <th>...</th>\n",
       "      <td>...</td>\n",
       "      <td>...</td>\n",
       "      <td>...</td>\n",
       "      <td>...</td>\n",
       "    </tr>\n",
       "    <tr>\n",
       "      <th>10113</th>\n",
       "      <td>9</td>\n",
       "      <td>Student</td>\n",
       "      <td>Male</td>\n",
       "      <td>0-17</td>\n",
       "    </tr>\n",
       "    <tr>\n",
       "      <th>10114</th>\n",
       "      <td>6</td>\n",
       "      <td>Student</td>\n",
       "      <td>Female</td>\n",
       "      <td>0-17</td>\n",
       "    </tr>\n",
       "    <tr>\n",
       "      <th>10115</th>\n",
       "      <td>2</td>\n",
       "      <td>Child</td>\n",
       "      <td>Male</td>\n",
       "      <td>0-17</td>\n",
       "    </tr>\n",
       "    <tr>\n",
       "      <th>10116</th>\n",
       "      <td>51</td>\n",
       "      <td>Employed</td>\n",
       "      <td>Female</td>\n",
       "      <td>46-55</td>\n",
       "    </tr>\n",
       "    <tr>\n",
       "      <th>10117</th>\n",
       "      <td>47</td>\n",
       "      <td>Employed</td>\n",
       "      <td>Female</td>\n",
       "      <td>46-55</td>\n",
       "    </tr>\n",
       "  </tbody>\n",
       "</table>\n",
       "<p>10117 rows × 4 columns</p>\n",
       "</div>"
      ],
      "text/plain": [
       "       Age  Occupation  Gender Employment Age Range\n",
       "0       77     Retired    Male                  66+\n",
       "1       79     Retired  Female                  66+\n",
       "2       55    Employed    Male                46-55\n",
       "3       35    Employed    Male                26-35\n",
       "4       42  Unemployed  Female                36-45\n",
       "...    ...         ...     ...                  ...\n",
       "10113    9     Student    Male                 0-17\n",
       "10114    6     Student  Female                 0-17\n",
       "10115    2       Child    Male                 0-17\n",
       "10116   51    Employed  Female                46-55\n",
       "10117   47    Employed  Female                46-55\n",
       "\n",
       "[10117 rows x 4 columns]"
      ]
     },
     "execution_count": 54,
     "metadata": {},
     "output_type": "execute_result"
    }
   ],
   "source": [
    "#Grouping the age brackets for unemployemnt analysis\n",
    "#Josh (2015)\n",
    "bins = [-1, 18, 25, 35, 45, 55, 65, np.inf]\n",
    "names = ['0-17', '18-25', '26-35', '36-45', '46-55', '56-65', \"66+\"]\n",
    "\n",
    "unemployment['Employment Age Range'] = pd.cut(unemployment['Age'], bins, labels=names)\n",
    "unemployment\n",
    "#modified the code from the age pyramid\n",
    "# Josh (2015)"
   ]
  },
  {
   "cell_type": "markdown",
   "id": "15c49b90",
   "metadata": {},
   "source": [
    "### To examine unemployment trend by age range, all groups not in the labour age range would be dropped from the chart (retired, students and Children )"
   ]
  },
  {
   "cell_type": "code",
   "execution_count": 55,
   "id": "097ffa2d",
   "metadata": {},
   "outputs": [],
   "source": [
    "#dropping underage and retired columns\n",
    "unemployment = unemployment.drop(unemployment[(unemployment['Age'] <= 15) | (unemployment['Age'] > 65)| (unemployment['Occupation'] == 'Student')].index)"
   ]
  },
  {
   "cell_type": "code",
   "execution_count": 56,
   "id": "09151183",
   "metadata": {},
   "outputs": [
    {
     "data": {
      "image/png": "[encoded data removed]",
      "text/plain": [
       "<Figure size 1411.25x800 with 1 Axes>"
      ]
     },
     "metadata": {},
     "output_type": "display_data"
    }
   ],
   "source": [
    "sns.set_style(\"whitegrid\")\n",
    "sns.set(font_scale=1.5)\n",
    "palette = {\n",
    "    'Employed': 'tab:blue',\n",
    "    'Unemployed': 'tab:red',\n",
    "}\n",
    "\n",
    "\n",
    "w = sns.displot(data = unemployment, x=\"Employment Age Range\", hue=\"Occupation\", palette= palette, bins=50, height=8, aspect=1.5)\n",
    "plt.xticks(rotation=90)\n",
    "plt.ylabel('Population')\n",
    "plt.title('Unemployment Trend by Age Range') \n",
    "w.ax.grid(False)\n",
    "plt.show()\n",
    "w.savefig(\"Unemployment by Age range.png\")\n",
    "# Galli (2019)"
   ]
  },
  {
   "cell_type": "code",
   "execution_count": 57,
   "id": "9cd6fc05",
   "metadata": {},
   "outputs": [
    {
     "name": "stdout",
     "output_type": "stream",
     "text": [
      "Occupation            Employed  Unemployed\n",
      "Employment Age Range                      \n",
      "18-25                    92.81        7.19\n",
      "26-35                    91.25        8.75\n",
      "36-45                    89.24       10.76\n",
      "46-55                    89.93       10.07\n",
      "56-65                    90.22        9.78\n"
     ]
    }
   ],
   "source": [
    "# creating a cross tabulation of Age range and Employment status showing the percentages\n",
    "ct = pd.crosstab(unemployment['Employment Age Range'], unemployment['Occupation'])\n",
    "ct_pct = ct.apply(lambda r: r/r.sum(), axis=1) * 100\n",
    "ct_pct = ct_pct.round(2)\n",
    "print(ct_pct)\n",
    "#deepanshu_rustagi (2020)"
   ]
  },
  {
   "cell_type": "markdown",
   "id": "4bfd1c71",
   "metadata": {},
   "source": [
    "### Checking unemployed population against Gender"
   ]
  },
  {
   "cell_type": "code",
   "execution_count": 58,
   "id": "37dcb8b4",
   "metadata": {},
   "outputs": [
    {
     "data": {
      "text/plain": [
       "Female    361\n",
       "Male      208\n",
       "Name: Gender, dtype: int64"
      ]
     },
     "execution_count": 58,
     "metadata": {},
     "output_type": "execute_result"
    }
   ],
   "source": [
    "#unemployment_gender = unemployment.drop(unemployment['Occupation'] == ('Employed').index)\n",
    "unemployment_gender = unemployment.drop(unemployment[unemployment['Occupation'] == 'Employed'].index)\n",
    "unemployment_gender[\"Gender\"].value_counts()"
   ]
  },
  {
   "cell_type": "code",
   "execution_count": 59,
   "id": "5b3889d3",
   "metadata": {},
   "outputs": [
    {
     "data": {
      "image/png": "[encoded data removed]",
      "text/plain": [
       "<Figure size 1359x800 with 1 Axes>"
      ]
     },
     "metadata": {},
     "output_type": "display_data"
    }
   ],
   "source": [
    "#plotting unemployment by gender\n",
    "sns.set_style(\"whitegrid\")\n",
    "sns.set(font_scale=1.5)\n",
    "\n",
    "unemp_gen = sns.catplot(data=unemployment_gender, kind=\"count\", x=\"Employment Age Range\", hue=\"Gender\", height=8, aspect=1.5)\n",
    "plt.xticks(rotation=90)\n",
    "plt.ylabel('Population')\n",
    "plt.title('Unemployment Trend by Gender')\n",
    "unemp_gen.ax.grid(False) \n",
    "plt.show()\n",
    "unemp_gen.savefig(\"Unemployment by Gender.png\")\n",
    "#Galli (2018)"
   ]
  },
  {
   "cell_type": "code",
   "execution_count": 60,
   "id": "0be64ae4",
   "metadata": {},
   "outputs": [
    {
     "name": "stdout",
     "output_type": "stream",
     "text": [
      "Gender                Female   Male\n",
      "Employment Age Range               \n",
      "18-25                  42.42  57.58\n",
      "26-35                  68.99  31.01\n",
      "36-45                  66.49  33.51\n",
      "46-55                  59.40  40.60\n",
      "56-65                  62.92  37.08\n"
     ]
    }
   ],
   "source": [
    "# cross tabulation of employment by gender\n",
    "ct = pd.crosstab(unemployment_gender['Employment Age Range'], unemployment_gender['Gender'])\n",
    "ct_pct = ct.apply(lambda r: r/r.sum(), axis=1) * 100\n",
    "ct_pct = ct_pct.round(2)\n",
    "print(ct_pct)\n",
    "#deepanshu_rustagi (2020)"
   ]
  },
  {
   "cell_type": "markdown",
   "id": "2cd4a20f",
   "metadata": {},
   "source": [
    "### Finding what percentage of the workforce of Ages (15 - 65) are unemployed\n"
   ]
  },
  {
   "cell_type": "code",
   "execution_count": 61,
   "id": "4a6fd989",
   "metadata": {},
   "outputs": [
    {
     "name": "stdout",
     "output_type": "stream",
     "text": [
      "Percentage of the workforce that is unemployed is: 9.67%\n"
     ]
    }
   ],
   "source": [
    "# filtering out unemployed working age group\n",
    "selected_rows = unemployment.loc[(unemployment[\"Age\"] > 17) & (unemployment[\"Age\"] <= 65) & (unemployment[\"Occupation\"] == \"Unemployed\")]\n",
    "total_rows = unemployment.loc[(unemployment[\"Age\"] > 17) & (unemployment[\"Age\"] <= 65)]\n",
    "\n",
    "percentage = len(selected_rows) / len(total_rows) * 100\n",
    "print(\"Percentage of the workforce that is unemployed is: {:.2f}%\".format(percentage))"
   ]
  },
  {
   "cell_type": "markdown",
   "id": "698a8743",
   "metadata": {},
   "source": [
    "### Unemployment Insights\n",
    "The unemployment rate is relatively high at 9.67% of the entire labour force.\n",
    "with the younger ages in the workforce having slightly higher unemployment rates. Also there is a higher number of unemployed females across most age bands, although that is also slightly influenced by having more females in the general population."
   ]
  },
  {
   "cell_type": "markdown",
   "id": "76957586",
   "metadata": {},
   "source": [
    "# Examining religious affiliations to see if there are any religions growing, or shrinking"
   ]
  },
  {
   "cell_type": "code",
   "execution_count": 62,
   "id": "3614bb3e",
   "metadata": {},
   "outputs": [
    {
     "name": "stdout",
     "output_type": "stream",
     "text": [
      "               Frequency  Percentage\n",
      "None                3455   34.150440\n",
      "Not Available       2544   25.145794\n",
      "Christian           2135   21.103094\n",
      "Catholic            1093   10.803598\n",
      "Methodist            628    6.207374\n",
      "Muslim               142    1.403578\n",
      "Sikh                  69    0.682020\n",
      "Jewish                47    0.464565\n",
      "Agnostic               2    0.019769\n",
      "Pagan                  1    0.009884\n",
      "Bahai                  1    0.009884\n"
     ]
    }
   ],
   "source": [
    "# Getting to total number of people per religion and getting their percentage value of the population\n",
    "data[\"Religion\"].value_counts()\n",
    "religion_counts = data[\"Religion\"].value_counts()\n",
    "religion_percentages = religion_counts / religion_counts.sum() * 100\n",
    "\n",
    "religion_df = pd.concat([religion_counts, religion_percentages], axis=1)\n",
    "religion_df.columns = ['Frequency', 'Percentage']\n",
    "\n",
    "print(religion_df)"
   ]
  },
  {
   "cell_type": "markdown",
   "id": "e009f3cc",
   "metadata": {},
   "source": [
    "### A suitable plot to read the religious trends would be a labelled heatmap which plots the various religions across different age groups and makes it easy to identify growing and shrinking numbers"
   ]
  },
  {
   "cell_type": "code",
   "execution_count": 63,
   "id": "b884bfa3",
   "metadata": {},
   "outputs": [
    {
     "data": {
      "image/png": "[encoded data removed]",
      "text/plain": [
       "<Figure size 1200x800 with 1 Axes>"
      ]
     },
     "metadata": {},
     "output_type": "display_data"
    }
   ],
   "source": [
    "# creating a crosstab of Religion and Age range and plotting as a heatmap\n",
    "xtab = pd.crosstab(index=data['Religion'], columns=data['Age Range'])\n",
    "\n",
    "cmap = sns.diverging_palette(220, 20, sep=20, as_cmap=True)\n",
    "\n",
    "sns.set_style(\"whitegrid\")\n",
    "sns.set(font_scale=1.2)\n",
    "plt.figure(figsize=(12,8))\n",
    "sns.heatmap(xtab, cmap=cmap, annot=True, fmt=\"d\", cbar=False, center=xtab.mean().mean())\n",
    "plt.title(\"Religious Affiliations by Age Range\")\n",
    "plt.xlabel(\"Age Range\")\n",
    "plt.ylabel(\"Religion\")\n",
    "plt.savefig('religion heatmap.png')\n",
    "plt.show()"
   ]
  },
  {
   "cell_type": "markdown",
   "id": "75af872d",
   "metadata": {},
   "source": [
    "### Religious Insights\n",
    "The count above shows that a quarter of the population (25%) are irreligious.\n",
    "The plot also shows that the majority of our Nan values identified earlier belong to children(Minors) who probably have not found any religious bearings yet.\n",
    "The plot reveals that while less than half of the entire population hold religious beliefs, most of them are christians, followed by Catholics and Methodists. There is a small population of Muslims, Sikh and Jewish people as well.\n",
    "While there is a younger population for the Muslims and Sikh which could indicate a growing religion, their numbers are still really small against the dominant religions and the entire population."
   ]
  },
  {
   "cell_type": "markdown",
   "id": "2d9f9b24",
   "metadata": {},
   "source": [
    "# Examining the divorce and marriage rate\n"
   ]
  },
  {
   "cell_type": "code",
   "execution_count": 64,
   "id": "2c9897f7",
   "metadata": {},
   "outputs": [
    {
     "data": {
      "text/html": [
       "<div>\n",
       "<style scoped>\n",
       "    .dataframe tbody tr th:only-of-type {\n",
       "        vertical-align: middle;\n",
       "    }\n",
       "\n",
       "    .dataframe tbody tr th {\n",
       "        vertical-align: top;\n",
       "    }\n",
       "\n",
       "    .dataframe thead th {\n",
       "        text-align: right;\n",
       "    }\n",
       "</style>\n",
       "<table border=\"1\" class=\"dataframe\">\n",
       "  <thead>\n",
       "    <tr style=\"text-align: right;\">\n",
       "      <th></th>\n",
       "      <th>House Number</th>\n",
       "      <th>Street</th>\n",
       "      <th>First Name</th>\n",
       "      <th>Surname</th>\n",
       "      <th>Age</th>\n",
       "      <th>Relationship to Head of House</th>\n",
       "      <th>Marital Status</th>\n",
       "      <th>Gender</th>\n",
       "      <th>Occupation</th>\n",
       "      <th>Infirmity</th>\n",
       "      <th>Religion</th>\n",
       "      <th>Age Range</th>\n",
       "    </tr>\n",
       "  </thead>\n",
       "  <tbody>\n",
       "    <tr>\n",
       "      <th>0</th>\n",
       "      <td>1</td>\n",
       "      <td>Kaur Drive</td>\n",
       "      <td>Douglas</td>\n",
       "      <td>Adams</td>\n",
       "      <td>77</td>\n",
       "      <td>Head</td>\n",
       "      <td>Widowed</td>\n",
       "      <td>Male</td>\n",
       "      <td>Retired Museum education officer</td>\n",
       "      <td>None</td>\n",
       "      <td>Christian</td>\n",
       "      <td>75-79</td>\n",
       "    </tr>\n",
       "    <tr>\n",
       "      <th>1</th>\n",
       "      <td>2</td>\n",
       "      <td>Kaur Drive</td>\n",
       "      <td>Hollie</td>\n",
       "      <td>West</td>\n",
       "      <td>79</td>\n",
       "      <td>Head</td>\n",
       "      <td>Single</td>\n",
       "      <td>Female</td>\n",
       "      <td>Retired Dealer</td>\n",
       "      <td>None</td>\n",
       "      <td>Christian</td>\n",
       "      <td>75-79</td>\n",
       "    </tr>\n",
       "    <tr>\n",
       "      <th>2</th>\n",
       "      <td>3</td>\n",
       "      <td>Kaur Drive</td>\n",
       "      <td>Joseph</td>\n",
       "      <td>Hall</td>\n",
       "      <td>55</td>\n",
       "      <td>Head</td>\n",
       "      <td>Single</td>\n",
       "      <td>Male</td>\n",
       "      <td>Fast food restaurant manager</td>\n",
       "      <td>None</td>\n",
       "      <td>Christian</td>\n",
       "      <td>55-59</td>\n",
       "    </tr>\n",
       "    <tr>\n",
       "      <th>3</th>\n",
       "      <td>4</td>\n",
       "      <td>Kaur Drive</td>\n",
       "      <td>Gregory</td>\n",
       "      <td>Cox</td>\n",
       "      <td>35</td>\n",
       "      <td>Head</td>\n",
       "      <td>Single</td>\n",
       "      <td>Male</td>\n",
       "      <td>Housing manager/officer</td>\n",
       "      <td>None</td>\n",
       "      <td>None</td>\n",
       "      <td>35-39</td>\n",
       "    </tr>\n",
       "    <tr>\n",
       "      <th>4</th>\n",
       "      <td>5</td>\n",
       "      <td>Kaur Drive</td>\n",
       "      <td>Lydia</td>\n",
       "      <td>Jones</td>\n",
       "      <td>42</td>\n",
       "      <td>Head</td>\n",
       "      <td>Single</td>\n",
       "      <td>Female</td>\n",
       "      <td>Unemployed</td>\n",
       "      <td>None</td>\n",
       "      <td>Catholic</td>\n",
       "      <td>40-44</td>\n",
       "    </tr>\n",
       "    <tr>\n",
       "      <th>...</th>\n",
       "      <td>...</td>\n",
       "      <td>...</td>\n",
       "      <td>...</td>\n",
       "      <td>...</td>\n",
       "      <td>...</td>\n",
       "      <td>...</td>\n",
       "      <td>...</td>\n",
       "      <td>...</td>\n",
       "      <td>...</td>\n",
       "      <td>...</td>\n",
       "      <td>...</td>\n",
       "      <td>...</td>\n",
       "    </tr>\n",
       "    <tr>\n",
       "      <th>10107</th>\n",
       "      <td>1</td>\n",
       "      <td>St.John Haven</td>\n",
       "      <td>Jean</td>\n",
       "      <td>Johnson</td>\n",
       "      <td>50</td>\n",
       "      <td>Head</td>\n",
       "      <td>Single</td>\n",
       "      <td>Female</td>\n",
       "      <td>Science writer</td>\n",
       "      <td>None</td>\n",
       "      <td>Christian</td>\n",
       "      <td>50-54</td>\n",
       "    </tr>\n",
       "    <tr>\n",
       "      <th>10108</th>\n",
       "      <td>1</td>\n",
       "      <td>St.John Haven</td>\n",
       "      <td>Alex</td>\n",
       "      <td>Johnson</td>\n",
       "      <td>25</td>\n",
       "      <td>Son</td>\n",
       "      <td>Single</td>\n",
       "      <td>Male</td>\n",
       "      <td>Freight forwarder</td>\n",
       "      <td>None</td>\n",
       "      <td>Christian</td>\n",
       "      <td>25-29</td>\n",
       "    </tr>\n",
       "    <tr>\n",
       "      <th>10109</th>\n",
       "      <td>1</td>\n",
       "      <td>St.John Haven</td>\n",
       "      <td>Barry</td>\n",
       "      <td>Johnson</td>\n",
       "      <td>20</td>\n",
       "      <td>Son</td>\n",
       "      <td>Divorced</td>\n",
       "      <td>Male</td>\n",
       "      <td>University Student</td>\n",
       "      <td>None</td>\n",
       "      <td>Christian</td>\n",
       "      <td>20-24</td>\n",
       "    </tr>\n",
       "    <tr>\n",
       "      <th>10116</th>\n",
       "      <td>1</td>\n",
       "      <td>St.John Haven</td>\n",
       "      <td>Kate</td>\n",
       "      <td>Whitehead</td>\n",
       "      <td>51</td>\n",
       "      <td>Sibling</td>\n",
       "      <td>Single</td>\n",
       "      <td>Female</td>\n",
       "      <td>Food technologist</td>\n",
       "      <td>None</td>\n",
       "      <td>Christian</td>\n",
       "      <td>50-54</td>\n",
       "    </tr>\n",
       "    <tr>\n",
       "      <th>10117</th>\n",
       "      <td>1</td>\n",
       "      <td>St.John Haven</td>\n",
       "      <td>Abigail</td>\n",
       "      <td>Brown</td>\n",
       "      <td>47</td>\n",
       "      <td>Lodger</td>\n",
       "      <td>Single</td>\n",
       "      <td>Female</td>\n",
       "      <td>Web designer</td>\n",
       "      <td>None</td>\n",
       "      <td>Catholic</td>\n",
       "      <td>45-49</td>\n",
       "    </tr>\n",
       "  </tbody>\n",
       "</table>\n",
       "<p>7633 rows × 12 columns</p>\n",
       "</div>"
      ],
      "text/plain": [
       "       House Number         Street First Name    Surname  Age  \\\n",
       "0                 1     Kaur Drive    Douglas      Adams   77   \n",
       "1                 2     Kaur Drive     Hollie       West   79   \n",
       "2                 3     Kaur Drive     Joseph       Hall   55   \n",
       "3                 4     Kaur Drive    Gregory        Cox   35   \n",
       "4                 5     Kaur Drive      Lydia      Jones   42   \n",
       "...             ...            ...        ...        ...  ...   \n",
       "10107             1  St.John Haven       Jean    Johnson   50   \n",
       "10108             1  St.John Haven       Alex    Johnson   25   \n",
       "10109             1  St.John Haven      Barry    Johnson   20   \n",
       "10116             1  St.John Haven       Kate  Whitehead   51   \n",
       "10117             1  St.John Haven    Abigail      Brown   47   \n",
       "\n",
       "      Relationship to Head of House Marital Status  Gender  \\\n",
       "0                              Head        Widowed    Male   \n",
       "1                              Head         Single  Female   \n",
       "2                              Head         Single    Male   \n",
       "3                              Head         Single    Male   \n",
       "4                              Head         Single  Female   \n",
       "...                             ...            ...     ...   \n",
       "10107                          Head         Single  Female   \n",
       "10108                           Son         Single    Male   \n",
       "10109                           Son       Divorced    Male   \n",
       "10116                       Sibling         Single  Female   \n",
       "10117                        Lodger         Single  Female   \n",
       "\n",
       "                             Occupation Infirmity   Religion Age Range  \n",
       "0      Retired Museum education officer      None  Christian     75-79  \n",
       "1                        Retired Dealer      None  Christian     75-79  \n",
       "2          Fast food restaurant manager      None  Christian     55-59  \n",
       "3               Housing manager/officer      None       None     35-39  \n",
       "4                            Unemployed      None   Catholic     40-44  \n",
       "...                                 ...       ...        ...       ...  \n",
       "10107                    Science writer      None  Christian     50-54  \n",
       "10108                 Freight forwarder      None  Christian     25-29  \n",
       "10109                University Student      None  Christian     20-24  \n",
       "10116                 Food technologist      None  Christian     50-54  \n",
       "10117                      Web designer      None   Catholic     45-49  \n",
       "\n",
       "[7633 rows x 12 columns]"
      ]
     },
     "execution_count": 64,
     "metadata": {},
     "output_type": "execute_result"
    }
   ],
   "source": [
    "# Extracting the data for people above the legal marriage age into a df marital_age\n",
    "marital_age = data[data['Age'] >= 18]\n",
    "marital_age"
   ]
  },
  {
   "cell_type": "code",
   "execution_count": 65,
   "id": "e7371dc6",
   "metadata": {},
   "outputs": [
    {
     "name": "stdout",
     "output_type": "stream",
     "text": [
      "          Count  Frequency\n",
      "Single     3738  48.971571\n",
      "Married    2672  35.005895\n",
      "Divorced    871  11.410979\n",
      "Widowed     352   4.611555\n"
     ]
    },
    {
     "data": {
      "image/png": "[encoded data removed]",
      "text/plain": [
       "<Figure size 640x480 with 1 Axes>"
      ]
     },
     "metadata": {},
     "output_type": "display_data"
    }
   ],
   "source": [
    "#Frequency distribution of the Marital status of the population and a plot of the population distribution\n",
    "value_counts = marital_age[\"Marital Status\"].value_counts()\n",
    "frequency = marital_age[\"Marital Status\"].value_counts(normalize=True) * 100\n",
    "result = pd.concat([value_counts, frequency], axis=1, keys=['Count', 'Frequency'])\n",
    "print(result)\n",
    "\n",
    "sns.set(style=\"dark\")\n",
    "ax = sns.barplot(x=result.index, y=\"Count\", data=result)\n",
    "ax.set_title(\"Marital Status of the Population above 18\")\n",
    "ax.set_ylabel(\"Population\")\n",
    "ax.set_xlabel(\"Marital Status\")\n",
    "plt.show()"
   ]
  },
  {
   "cell_type": "code",
   "execution_count": 66,
   "id": "f781fa7c",
   "metadata": {},
   "outputs": [
    {
     "data": {
      "image/png": "[encoded data removed]",
      "text/plain": [
       "<Figure size 640x480 with 1 Axes>"
      ]
     },
     "metadata": {},
     "output_type": "display_data"
    }
   ],
   "source": [
    "#Grouping the data, aggregating and plotting the marital status by age range\n",
    "count_data = marital_age.groupby(['Age Range', 'Marital Status']).size().reset_index(name='Count')\n",
    "table = pd.pivot_table(count_data, values='Count', index=['Age Range'], columns=['Marital Status'])\n",
    "\n",
    "sns.set_style(\"white\")\n",
    "table.plot(kind='line')\n",
    "plt.title('Marital Status by Age Range')\n",
    "plt.xlabel('Age Range')\n",
    "plt.ylabel('Population')\n",
    "plt.show()\n"
   ]
  },
  {
   "cell_type": "markdown",
   "id": "04b3edc0",
   "metadata": {},
   "source": [
    "##  Examining housing occupancy levels (how many people per house) and determining if existing housing is being under or over-used"
   ]
  },
  {
   "cell_type": "markdown",
   "id": "bfd6a04c",
   "metadata": {},
   "source": [
    "### A subdata base including relevant columns would be created to allow the concatenating of the house number and street name into one column without affecting the original database,this would make it easier to do a count of people per address"
   ]
  },
  {
   "cell_type": "code",
   "execution_count": 67,
   "id": "c50af580",
   "metadata": {},
   "outputs": [
    {
     "data": {
      "text/html": [
       "<div>\n",
       "<style scoped>\n",
       "    .dataframe tbody tr th:only-of-type {\n",
       "        vertical-align: middle;\n",
       "    }\n",
       "\n",
       "    .dataframe tbody tr th {\n",
       "        vertical-align: top;\n",
       "    }\n",
       "\n",
       "    .dataframe thead th {\n",
       "        text-align: right;\n",
       "    }\n",
       "</style>\n",
       "<table border=\"1\" class=\"dataframe\">\n",
       "  <thead>\n",
       "    <tr style=\"text-align: right;\">\n",
       "      <th></th>\n",
       "      <th>House Number</th>\n",
       "      <th>Street</th>\n",
       "      <th>First Name</th>\n",
       "      <th>Surname</th>\n",
       "      <th>Marital Status</th>\n",
       "      <th>Relationship to Head of House</th>\n",
       "      <th>Occupation</th>\n",
       "    </tr>\n",
       "  </thead>\n",
       "  <tbody>\n",
       "    <tr>\n",
       "      <th>0</th>\n",
       "      <td>1</td>\n",
       "      <td>Kaur Drive</td>\n",
       "      <td>Douglas</td>\n",
       "      <td>Adams</td>\n",
       "      <td>Widowed</td>\n",
       "      <td>Head</td>\n",
       "      <td>Retired Museum education officer</td>\n",
       "    </tr>\n",
       "    <tr>\n",
       "      <th>1</th>\n",
       "      <td>2</td>\n",
       "      <td>Kaur Drive</td>\n",
       "      <td>Hollie</td>\n",
       "      <td>West</td>\n",
       "      <td>Single</td>\n",
       "      <td>Head</td>\n",
       "      <td>Retired Dealer</td>\n",
       "    </tr>\n",
       "    <tr>\n",
       "      <th>2</th>\n",
       "      <td>3</td>\n",
       "      <td>Kaur Drive</td>\n",
       "      <td>Joseph</td>\n",
       "      <td>Hall</td>\n",
       "      <td>Single</td>\n",
       "      <td>Head</td>\n",
       "      <td>Fast food restaurant manager</td>\n",
       "    </tr>\n",
       "    <tr>\n",
       "      <th>3</th>\n",
       "      <td>4</td>\n",
       "      <td>Kaur Drive</td>\n",
       "      <td>Gregory</td>\n",
       "      <td>Cox</td>\n",
       "      <td>Single</td>\n",
       "      <td>Head</td>\n",
       "      <td>Housing manager/officer</td>\n",
       "    </tr>\n",
       "    <tr>\n",
       "      <th>4</th>\n",
       "      <td>5</td>\n",
       "      <td>Kaur Drive</td>\n",
       "      <td>Lydia</td>\n",
       "      <td>Jones</td>\n",
       "      <td>Single</td>\n",
       "      <td>Head</td>\n",
       "      <td>Unemployed</td>\n",
       "    </tr>\n",
       "    <tr>\n",
       "      <th>...</th>\n",
       "      <td>...</td>\n",
       "      <td>...</td>\n",
       "      <td>...</td>\n",
       "      <td>...</td>\n",
       "      <td>...</td>\n",
       "      <td>...</td>\n",
       "      <td>...</td>\n",
       "    </tr>\n",
       "    <tr>\n",
       "      <th>10113</th>\n",
       "      <td>1</td>\n",
       "      <td>St.John Haven</td>\n",
       "      <td>Patrick</td>\n",
       "      <td>Morgan</td>\n",
       "      <td>Ineligible</td>\n",
       "      <td>Son</td>\n",
       "      <td>Student</td>\n",
       "    </tr>\n",
       "    <tr>\n",
       "      <th>10114</th>\n",
       "      <td>1</td>\n",
       "      <td>St.John Haven</td>\n",
       "      <td>Caroline</td>\n",
       "      <td>Morgan</td>\n",
       "      <td>Ineligible</td>\n",
       "      <td>Daughter</td>\n",
       "      <td>Student</td>\n",
       "    </tr>\n",
       "    <tr>\n",
       "      <th>10115</th>\n",
       "      <td>1</td>\n",
       "      <td>St.John Haven</td>\n",
       "      <td>Benjamin</td>\n",
       "      <td>Morgan</td>\n",
       "      <td>Ineligible</td>\n",
       "      <td>Son</td>\n",
       "      <td>Child</td>\n",
       "    </tr>\n",
       "    <tr>\n",
       "      <th>10116</th>\n",
       "      <td>1</td>\n",
       "      <td>St.John Haven</td>\n",
       "      <td>Kate</td>\n",
       "      <td>Whitehead</td>\n",
       "      <td>Single</td>\n",
       "      <td>Sibling</td>\n",
       "      <td>Food technologist</td>\n",
       "    </tr>\n",
       "    <tr>\n",
       "      <th>10117</th>\n",
       "      <td>1</td>\n",
       "      <td>St.John Haven</td>\n",
       "      <td>Abigail</td>\n",
       "      <td>Brown</td>\n",
       "      <td>Single</td>\n",
       "      <td>Lodger</td>\n",
       "      <td>Web designer</td>\n",
       "    </tr>\n",
       "  </tbody>\n",
       "</table>\n",
       "<p>10117 rows × 7 columns</p>\n",
       "</div>"
      ],
      "text/plain": [
       "       House Number         Street First Name    Surname Marital Status  \\\n",
       "0                 1     Kaur Drive    Douglas      Adams        Widowed   \n",
       "1                 2     Kaur Drive     Hollie       West         Single   \n",
       "2                 3     Kaur Drive     Joseph       Hall         Single   \n",
       "3                 4     Kaur Drive    Gregory        Cox         Single   \n",
       "4                 5     Kaur Drive      Lydia      Jones         Single   \n",
       "...             ...            ...        ...        ...            ...   \n",
       "10113             1  St.John Haven    Patrick     Morgan     Ineligible   \n",
       "10114             1  St.John Haven   Caroline     Morgan     Ineligible   \n",
       "10115             1  St.John Haven   Benjamin     Morgan     Ineligible   \n",
       "10116             1  St.John Haven       Kate  Whitehead         Single   \n",
       "10117             1  St.John Haven    Abigail      Brown         Single   \n",
       "\n",
       "      Relationship to Head of House                        Occupation  \n",
       "0                              Head  Retired Museum education officer  \n",
       "1                              Head                    Retired Dealer  \n",
       "2                              Head      Fast food restaurant manager  \n",
       "3                              Head           Housing manager/officer  \n",
       "4                              Head                        Unemployed  \n",
       "...                             ...                               ...  \n",
       "10113                           Son                           Student  \n",
       "10114                      Daughter                           Student  \n",
       "10115                           Son                             Child  \n",
       "10116                       Sibling                 Food technologist  \n",
       "10117                        Lodger                      Web designer  \n",
       "\n",
       "[10117 rows x 7 columns]"
      ]
     },
     "execution_count": 67,
     "metadata": {},
     "output_type": "execute_result"
    }
   ],
   "source": [
    "occupancy = data[[\"House Number\", \"Street\",'First Name', 'Surname', \"Marital Status\", \"Relationship to Head of House\", \"Occupation\" ]]\n",
    "occupancy"
   ]
  },
  {
   "cell_type": "code",
   "execution_count": 68,
   "id": "199a6695",
   "metadata": {},
   "outputs": [],
   "source": [
    "#converting the house number to a string value to enable combining the house number and street columns into one address column\n",
    "occupancy['House Number'] = occupancy['House Number'].astype(str)\n",
    "occupancy['Address'] = occupancy['House Number'] + ' ' + occupancy['Street']"
   ]
  },
  {
   "cell_type": "code",
   "execution_count": 69,
   "id": "9a429585",
   "metadata": {},
   "outputs": [],
   "source": [
    "#grouping by address to get household count\n",
    "address_count = occupancy.groupby(['Address']).size().reset_index(name='count')\n",
    "\n",
    "# getting household count after filtering out non relatives\n",
    "to_drop = [\"Visitor\", \"Lodger\", \"None\"]\n",
    "relatives = occupancy[~occupancy[\"Relationship to Head of House\"].isin(to_drop)].copy()\n",
    "relatives.reset_index(drop=True, inplace=True)\n",
    "relatives_count = relatives.groupby(['Address']).size().reset_index(name='count')\n",
    "\n",
    "\n",
    "\n"
   ]
  },
  {
   "cell_type": "markdown",
   "id": "fb9981d7",
   "metadata": {},
   "source": [
    "### Plotting household numbers against household numbers excluding non-relatives"
   ]
  },
  {
   "cell_type": "code",
   "execution_count": 70,
   "id": "2b3afdc4",
   "metadata": {},
   "outputs": [
    {
     "data": {
      "image/png": "[encoded data removed]",
      "text/plain": [
       "<Figure size 640x480 with 1 Axes>"
      ]
     },
     "metadata": {},
     "output_type": "display_data"
    }
   ],
   "source": [
    "# plotting total household counts against household counts without non-relatives\n",
    "ax = address_count['count'].value_counts().sort_index().plot(kind='line')\n",
    "relatives_count['count'].value_counts().sort_index().plot(kind='line', ax=ax)\n",
    "\n",
    "sns.set_style(\"white\")\n",
    "plt.xlabel('Number of People/Relatives')\n",
    "plt.ylabel('Frequency')\n",
    "plt.title('Frequency of Number of People and Relatives per House')\n",
    "plt.xticks(range(2, max(address_count['count'].max(), relatives_count['count'].max()) + 2, 2))\n",
    "plt.legend(['Total Occupancy', 'Relatives Only Occupancy'])\n",
    "plt.show()\n"
   ]
  },
  {
   "cell_type": "markdown",
   "id": "671b2f44",
   "metadata": {},
   "source": [
    "### Information on lodgers, visitors and no-relations in the town"
   ]
  },
  {
   "cell_type": "code",
   "execution_count": 71,
   "id": "131ca73e",
   "metadata": {},
   "outputs": [],
   "source": [
    "# Getting lodger counts\n",
    "lodgers = occupancy.loc[(occupancy[\"Relationship to Head of House\"] == \"Lodger\")]\n",
    "lodger_counts = lodgers.groupby(\"Address\")[\"Relationship to Head of House\"].count()\n",
    "lodger_distribution = lodger_counts.value_counts()\n",
    "\n",
    "# Getting unrelated dwellers counts\n",
    "unrelated_dwellers = occupancy.loc[(occupancy[\"Relationship to Head of House\"] == \"None\")]\n",
    "unrelated_dwellers_counts = unrelated_dwellers.groupby(\"Address\")[\"Relationship to Head of House\"].count()\n",
    "unrelated_dwellers_distribution = unrelated_dwellers_counts.value_counts()\n",
    "\n",
    "# Getting visitor counts\n",
    "visitors = occupancy.loc[(occupancy[\"Relationship to Head of House\"] == \"Visitor\")]\n",
    "visitor_counts = visitors.groupby(\"Address\")[\"Relationship to Head of House\"].count()\n",
    "visitor_distribution = visitor_counts.value_counts()\n",
    "\n",
    "#merging all three to be plotted\n",
    "merged_df = pd.concat([lodger_distribution, visitor_distribution, unrelated_dwellers_distribution], axis=1)\n",
    "merged_df.columns = ['lodgers', 'visitors', 'unrelated dwellers']\n",
    "\n"
   ]
  },
  {
   "cell_type": "code",
   "execution_count": 72,
   "id": "ad57b20f",
   "metadata": {},
   "outputs": [
    {
     "data": {
      "image/png": "[encoded data removed]",
      "text/plain": [
       "<Figure size 640x480 with 1 Axes>"
      ]
     },
     "metadata": {},
     "output_type": "display_data"
    }
   ],
   "source": [
    "#plotting the merged data\n",
    "merged_df.plot(kind='line', marker='o')\n",
    "\n",
    "sns.set_style(\"white\")\n",
    "plt.xlabel('Number of unrelated occupants per house')\n",
    "plt.ylabel('Count')\n",
    "plt.title('Distribution of occupants by Unrelated Occupants')\n",
    "plt.show()"
   ]
  },
  {
   "cell_type": "markdown",
   "id": "4c4aebad",
   "metadata": {},
   "source": [
    "### plotting two bars to show the the top 5 lodgers and top 5 residents with no relationship to the head of house"
   ]
  },
  {
   "cell_type": "code",
   "execution_count": 73,
   "id": "46d7160d",
   "metadata": {},
   "outputs": [
    {
     "data": {
      "image/png": "[encoded data removed]",
      "text/plain": [
       "<Figure size 1000x600 with 2 Axes>"
      ]
     },
     "metadata": {},
     "output_type": "display_data"
    }
   ],
   "source": [
    "fig, ax = plt.subplots(1, 2, figsize=(10, 6))\n",
    "\n",
    "# plot of top 5 lodger occupations\n",
    "lodgers_occupation_counts = lodgers['Occupation'].value_counts()\n",
    "ax[0].bar(lodgers_occupation_counts[:5].index, lodgers_occupation_counts[:5])\n",
    "ax[0].set_xlabel('Occupation')\n",
    "ax[0].set_ylabel('Count')\n",
    "ax[0].set_title('Occupation of Top 5 Lodgers')\n",
    "ax[0].set_xticklabels(lodgers_occupation_counts[:5].index, rotation=90)\n",
    "\n",
    "# plot of top 5 unrelated to head of house occupations\n",
    "unrelated_occupation = unrelated_dwellers['Occupation'].value_counts()\n",
    "ax[1].bar(unrelated_occupation[:5].index, unrelated_occupation[:5])\n",
    "ax[1].set_xlabel('Occupation')\n",
    "ax[1].set_ylabel('Count')\n",
    "ax[1].set_title('Occupation of Top 5 Unrelated Residents')\n",
    "ax[1].set_xticklabels(unrelated_occupation[:5].index, rotation=90)\n",
    "\n",
    "\n",
    "plt.subplots_adjust(bottom=0.25)\n",
    "plt.show()\n"
   ]
  },
  {
   "cell_type": "markdown",
   "id": "bfee85e9",
   "metadata": {},
   "source": [
    "### Occupancy Insights\n",
    "The highest occuring occupancy is 2 per house, but it is unclear whether that translates to more 2 bedroom houses or if the houses are just being under occupied, this value also changes to 1 occupant per house when unrelated occupants are removed. This is closely followed by 1 and 3 occupants per house. Some of the houses with larger number of occupants are because of lodgers and they are unique dwellings with House number 1 as indicated. The analysis also shows that a large number of the lodgers are University students, and also people with no relationship to head of house are also mostly university students"
   ]
  },
  {
   "cell_type": "markdown",
   "id": "def22287",
   "metadata": {},
   "source": [
    "# Examining the number of university students. All of these are commuters since there are no universities in the town. Are there any other professions that are likely to be commuters?"
   ]
  },
  {
   "cell_type": "code",
   "execution_count": 74,
   "id": "106781de",
   "metadata": {},
   "outputs": [
    {
     "name": "stdout",
     "output_type": "stream",
     "text": [
      "The number of university students in the town is 669\n"
     ]
    }
   ],
   "source": [
    "#finding the number of university students\n",
    "uni_students = data.loc[data[\"Occupation\"].str.contains(\"university student\", case=False)]\n",
    "uni_students_total = len(uni_students)\n",
    "print(\"The number of university students in the town is\", uni_students_total)"
   ]
  },
  {
   "cell_type": "markdown",
   "id": "da30503b",
   "metadata": {},
   "source": [
    "### The given information provides very little about what is available in the town,only that there aren't any universities, and the need for an emergency centre suggests no hospital as well. As this is a modest town, it is also assumed there are no airports or military base. So it is assumed that doctors, surgeons, lecturers, professors, researchers, military and airline workers would commute out of town "
   ]
  },
  {
   "cell_type": "code",
   "execution_count": 75,
   "id": "f4e25ee3",
   "metadata": {},
   "outputs": [
    {
     "name": "stdout",
     "output_type": "stream",
     "text": [
      "The number of likely commuters out of the town is 1071\n",
      "The percentage of likely commuters out of town is  10.586142136997132\n"
     ]
    }
   ],
   "source": [
    "commuters = data.loc[~data[\"Occupation\"].str.contains(\"retired\", case=False) & data[\"Occupation\"].str.contains(\"university|doctor|pilot|professor|lecturer|medical|surgeon|pilot|airline|army|armed|research\", case=False)]\n",
    "likely_commuters = len(commuters)\n",
    "total_pop = len(data)\n",
    "percentage_commuters = (likely_commuters/total_pop)*100\n",
    "print(\"The number of likely commuters out of the town is\", likely_commuters)\n",
    "print(\"The percentage of likely commuters out of town is \", percentage_commuters )"
   ]
  },
  {
   "cell_type": "markdown",
   "id": "4069d203",
   "metadata": {},
   "source": [
    "### COMMUTER INSIGHTS\n",
    "The data along with the assumptions suggest that 10.5 % of the population commutes"
   ]
  },
  {
   "cell_type": "markdown",
   "id": "ac048fef",
   "metadata": {},
   "source": [
    " # What is the birth rate and death rate for the town? "
   ]
  },
  {
   "cell_type": "markdown",
   "id": "c80cde54",
   "metadata": {},
   "source": [
    "### Beacuse of the lack of historical data as this is limited to just the census data of the year, it is difficult to get a good birth and death rate for the town. But i would consider those born in the last year as live births for estimating birth rate, and also consider depreciation in 5 year age bands of the population above 65 for the death rate estimate. Limitations of this method would be discussed in the limitations section of report"
   ]
  },
  {
   "cell_type": "code",
   "execution_count": 76,
   "id": "16fa78e0",
   "metadata": {},
   "outputs": [
    {
     "name": "stdout",
     "output_type": "stream",
     "text": [
      "The current birth rate per 1000: 10.87\n"
     ]
    }
   ],
   "source": [
    "# live births is assumed to be children who haven't reached their first birthday, i.e born within the last year\n",
    "birth_data = data[data['Age'] == 0]\n",
    "num_live_births = len(birth_data)\n",
    "birth_rate = (num_live_births / len(data)) * 1000\n",
    "\n",
    "print(\"The current birth rate per 1000: {:.2f}\".format(birth_rate))"
   ]
  },
  {
   "cell_type": "code",
   "execution_count": 77,
   "id": "775ce5ba",
   "metadata": {},
   "outputs": [
    {
     "name": "stdout",
     "output_type": "stream",
     "text": [
      "The birth rate 5 years ago per 1000: 13.81\n"
     ]
    }
   ],
   "source": [
    "#birth rate two years prior with slight adjustment for total population\n",
    "birth_data1 = data[data['Age'] == 4]\n",
    "num_live_births1 = len(birth_data1)\n",
    "birth_rate1 = (num_live_births1 / (len(data)-631)) * 1000\n",
    "\n",
    "print(\"The birth rate 5 years ago per 1000: {:.2f}\".format(birth_rate1))"
   ]
  },
  {
   "cell_type": "markdown",
   "id": "46cb567f",
   "metadata": {},
   "source": [
    "## Death Rate"
   ]
  },
  {
   "cell_type": "code",
   "execution_count": 78,
   "id": "fd858368",
   "metadata": {},
   "outputs": [],
   "source": [
    "# summation of the difference in age bands across ages above 65\n",
    "total_population = len(data)\n",
    "d1 = data[data[\"Age Range\"] == '65-69'] [\"Age Range\"].count()\n",
    "d2 = data[data[\"Age Range\"] == '70-74'] [\"Age Range\"].count()\n",
    "d3 = data[data[\"Age Range\"] == '75-79'] [\"Age Range\"].count()\n",
    "d4 = data[data[\"Age Range\"] == '80-84'] [\"Age Range\"].count()\n",
    "d5 = data[data[\"Age Range\"] == '85-89'] [\"Age Range\"].count()\n",
    "d6 = data[data[\"Age Range\"] == '90-94'] [\"Age Range\"].count()\n",
    "d7 = data[data[\"Age Range\"] == '95-99'] [\"Age Range\"].count()\n",
    "d8 = data[data[\"Age Range\"] == '100+'] [\"Age Range\"].count()"
   ]
  },
  {
   "cell_type": "code",
   "execution_count": 79,
   "id": "a24f18a9",
   "metadata": {},
   "outputs": [
    {
     "name": "stdout",
     "output_type": "stream",
     "text": [
      "Death rate per 1000: 6.31\n"
     ]
    }
   ],
   "source": [
    "decline = ((d1-d2)+(d2-d3)+(d3-d4)+(d4-d5)+(d5-d6)+(d6-d7)+(d7-d8))/5\n",
    "death_rate = (decline/total_population) * 1000\n",
    "print(\"Death rate per 1000: {:.2f}\".format(death_rate))"
   ]
  },
  {
   "cell_type": "markdown",
   "id": "1df6a157",
   "metadata": {},
   "source": [
    "### Insights into Birth and Death rate for the town\n",
    "The current birth rate for the town is estimated at 10.87, previous birth rate at 13.81, indicating a decline of 3 children per 1000 over 5 years\n",
    "The death rate for the town is estimated at 6.31 per 1000 people.\n",
    "It is acknowleged that these results are only an estimated calculation as the data set provides no information on migration as well, which could also be a determining factor of the values assessed."
   ]
  },
  {
   "cell_type": "markdown",
   "id": "4e595db8",
   "metadata": {},
   "source": [
    "# REFERENCES"
   ]
  },
  {
   "cell_type": "markdown",
   "id": "5928c847",
   "metadata": {},
   "source": [
    "### Deepanshu_rustagi (2020) pandas.crosstab() function in Python. Available online: https://www.geeksforgeeks.org/pandas-crosstab-function-in-python/ [Accessed 26/04/2023]"
   ]
  },
  {
   "cell_type": "markdown",
   "id": "4418d733",
   "metadata": {},
   "source": [
    "### Gov.uk (2023) Legal age of marriage in England and Wales rises to 18. Available Online: https://www.gov.uk/government/news/legal-age-of-marriage-in-england-and-wales-rises-to-18 [Accessed 26/04/2023]"
   ]
  },
  {
   "cell_type": "markdown",
   "id": "421de6c9",
   "metadata": {},
   "source": [
    "### Josh (2015)Trying to create grouped variable in python. Available online: https://stackoverflow.com/questions/34165876/trying-to-create-grouped-variable-in-python [Accessed 26/04/2023]"
   ]
  },
  {
   "cell_type": "markdown",
   "id": "a59ea31c",
   "metadata": {},
   "source": [
    "### Keith Galli (2018) Complete Python Pandas Data Science Tutorial! (Reading CSV/Excel files, Sorting, Filtering, Groupby). Available online: https://www.youtube.com/watch?v=vmEHCJofslg&t=2260s"
   ]
  },
  {
   "cell_type": "markdown",
   "id": "689e0dd5",
   "metadata": {},
   "source": [
    "### Keith Galli (2019) Intro to Data Visualization in Python with Matplotlib! (line graph, bar chart, title, labels, size)). Available online: https://www.youtube.com/watch?v=DAQNHzOcO5A&t=1090s"
   ]
  },
  {
   "cell_type": "markdown",
   "id": "81b666b4",
   "metadata": {},
   "source": [
    "### Marco Mariani (2020) How to build a population pyramid with python. Available online: https://stackoverflow.com/questions/60969101/how-to-build-a-population-pyramid-with-python [Accessed 26/04/2023]"
   ]
  }
 ],
 "metadata": {
  "kernelspec": {
   "display_name": "Python 3 (ipykernel)",
   "language": "python",
   "name": "python3"
  },
  "language_info": {
   "codemirror_mode": {
    "name": "ipython",
    "version": 3
   },
   "file_extension": ".py",
   "mimetype": "text/x-python",
   "name": "python",
   "nbconvert_exporter": "python",
   "pygments_lexer": "ipython3",
   "version": "3.10.9"
  }
 },
 "nbformat": 4,
 "nbformat_minor": 5
}
